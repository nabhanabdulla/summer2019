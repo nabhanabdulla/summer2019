{
 "cells": [
  {
   "cell_type": "markdown",
   "metadata": {},
   "source": [
    "Official notes: http://cs231n.github.io/classification/"
   ]
  },
  {
   "cell_type": "markdown",
   "metadata": {},
   "source": [
    "# Image classification"
   ]
  },
  {
   "cell_type": "markdown",
   "metadata": {},
   "source": [
    "### Data driven approach"
   ]
  },
  {
   "cell_type": "markdown",
   "metadata": {},
   "source": [
    "It means that the progress in an activity is compelled by data, rather than by intuition or by personal experience\n"
   ]
  },
  {
   "cell_type": "markdown",
   "metadata": {},
   "source": [
    "1. Collect a dataset of images and labels\n",
    "2. Use machine learning to train an image classifier\n",
    "3. Evaluate the classifier on a withheld set of test images"
   ]
  },
  {
   "cell_type": "markdown",
   "metadata": {},
   "source": [
    "def train(images, labels):\n",
    "    # build a model for images -> labels\n",
    "    return model\n",
    "    \n",
    "def predict(model, test_images):\n",
    "    # predict test labels using the model\n",
    "    return test_labels"
   ]
  },
  {
   "cell_type": "markdown",
   "metadata": {},
   "source": [
    "### First classifier: Nearest neighbour classifier"
   ]
  },
  {
   "cell_type": "markdown",
   "metadata": {},
   "source": [
    "1. Remember all training images and their labels\n",
    "2. Predict the label of the most similar training image"
   ]
  },
  {
   "cell_type": "markdown",
   "metadata": {},
   "source": [
    "To compare images we can use the **L1 distance** or the **Manhattan distance** \n",
    "\n",
    "\\begin{equation*}\n",
    " d_1(I_1, I_2) =  \\sum_{p} |I_1^p - I_2^p| \n",
    "\\end{equation*}"
   ]
  },
  {
   "cell_type": "markdown",
   "metadata": {},
   "source": [
    "* Gets trained instantly(as it just saves the images and labels for testing)\n",
    "* Expensive(linear in size of training data) to test"
   ]
  },
  {
   "cell_type": "markdown",
   "metadata": {},
   "source": [
    "Test time performance is much more important in practice. CNNs are expensive to train but has cheap test evaluation while the nearest neighbour classifier flips this."
   ]
  },
  {
   "cell_type": "markdown",
   "metadata": {},
   "source": [
    "**Approximate nearest neighbour(ANN) - library**:\n",
    "    finds approximate nearest neighbours quickly"
   ]
  },
  {
   "cell_type": "markdown",
   "metadata": {},
   "source": [
    "Validation sets are used for tuning hyperparameters. We split the training data into training data and validation data, test the model on validation data to get the best parameters and then use those parameters to test the test data.\n",
    "** Number of neighbours to consider for classification(k) and metric to use for comparison are the hyper-parameters here**"
   ]
  },
  {
   "cell_type": "code",
   "execution_count": 45,
   "metadata": {},
   "outputs": [],
   "source": [
    "class NearestNeighbor(object):\n",
    "  def __init__(self):\n",
    "    pass\n",
    "\n",
    "  def train(self, X, y):\n",
    "    \"\"\" X is N x D where each row is an example. Y is 1-dimension of size N \"\"\"\n",
    "    # the nearest neighbor classifier simply remembers all the training data\n",
    "    self.Xtr = X\n",
    "    self.ytr = y\n",
    "\n",
    "  def predict(self, X):\n",
    "    \"\"\" X is N x D where each row is an example we wish to predict label for \"\"\"\n",
    "    num_test = X.shape[0]\n",
    "    # lets make sure that the output type matches the input type\n",
    "    Ypred = np.zeros(num_test, dtype = self.ytr.dtype)\n",
    "\n",
    "    # loop over all test rows\n",
    "    for i in range(num_test):\n",
    "      # find the nearest training image to the i'th test image\n",
    "      # using the L1 distance (sum of absolute value differences)\n",
    "      distances = np.sum(np.abs(self.Xtr - X[i,:]), axis = 1)\n",
    "      min_index = np.argmin(distances) # get the index with smallest distance\n",
    "      Ypred[i] = self.ytr[min_index] # predict the label of the nearest example\n",
    "\n",
    "    return Ypred"
   ]
  },
  {
   "cell_type": "code",
   "execution_count": 37,
   "metadata": {},
   "outputs": [],
   "source": [
    "from sklearn.model_selection import train_test_split\n",
    "import numpy as np\n",
    "import os\n",
    "from PIL import Image\n",
    "import scipy\n",
    "import matplotlib.pyplot as plt\n",
    "from sklearn.neighbors import NearestNeighbors\n",
    "\n",
    "\n",
    "def read_data(rdir,cNames,fExt,refSize):\n",
    "    featData = None\n",
    "    labelData = None\n",
    "    for c,cname in enumerate(cNames):\n",
    "        dirName = rdir + cname\n",
    "        #print(dirName)\n",
    "        for root, dirs, files in os.walk(dirName):\n",
    "            #print(root)\n",
    "            for file in files:\n",
    "                if(file.endswith(fExt)):\n",
    "                    # read Image\n",
    "                    img = np.asarray(Image.open(os.path.join(root,file)))\n",
    "                    if(len(img.shape)!=3):\n",
    "                        continue\n",
    "                    img = scipy.misc.imresize(img,(refSize))\n",
    "                    # collapse into vector\n",
    "                    feat = np.reshape(img,(1,np.prod(refSize)))\n",
    "                    # append to dataset\n",
    "                    if featData is None:\n",
    "                        featData = feat\n",
    "                        labelData = c\n",
    "                    else:\n",
    "                        featData = np.vstack((featData,feat))\n",
    "                        labelData = np.hstack((labelData,c))\n",
    "                    #print(\"{}\".format(img.shape))\n",
    "                    #imgplot = plt.imshow(img)\n",
    "                    #plt.show()\n",
    "    \n",
    "    #print(\"feat shape: {}, label shape:{}\".format(featData.shape,labelData.shape))\n",
    "    return featData, labelData"
   ]
  },
  {
   "cell_type": "code",
   "execution_count": 46,
   "metadata": {},
   "outputs": [
    {
     "name": "stdout",
     "output_type": "stream",
     "text": [
      "C:\\Users\\nabhu\\Documents\\ML\\Mlabs\\mlabs-2018-problem-set\\data\\ETHZShapeClasses-V1.2/Mugs\n"
     ]
    },
    {
     "name": "stderr",
     "output_type": "stream",
     "text": [
      "C:\\Users\\nabhu\\Anaconda3\\lib\\site-packages\\ipykernel_launcher.py:24: DeprecationWarning: `imresize` is deprecated!\n",
      "`imresize` is deprecated in SciPy 1.0.0, and will be removed in 1.2.0.\n",
      "Use ``skimage.transform.resize`` instead.\n"
     ]
    },
    {
     "name": "stdout",
     "output_type": "stream",
     "text": [
      "C:\\Users\\nabhu\\Documents\\ML\\Mlabs\\mlabs-2018-problem-set\\data\\ETHZShapeClasses-V1.2/Swans\n",
      "[[ 27  23  23 ...  48 102 148]\n",
      " [ 50  30  20 ...  36  25  20]\n",
      " [175 111  88 ... 197 165 137]\n",
      " ...\n",
      " [254 254 253 ... 254 254 253]\n",
      " [ 62  86  51 ... 119 126 105]\n",
      " [121 132 123 ...  80  92  81]] [0 0 0 0 0 0 0 0 0 0 0 0 0 0 0 0 0 0 0 0 0 0 0 0 0 0 0 0 0 0 0 0 0 0 0 0 0\n",
      " 0 0 0 0 0 0 0 0 0 0 0 1 1 1 1 1 1 1 1 1 1 1 1 1 1 1 1 1 1 1 1 1 1 1 1 1 1\n",
      " 1 1 1 1 1]\n"
     ]
    }
   ],
   "source": [
    "opts = {'rdir': r\"C:\\Users\\nabhu\\Documents\\ML\\Mlabs\\mlabs-2018-problem-set\\data\\ETHZShapeClasses-V1.2/\",\n",
    "        'classNames' : {'Mugs','Swans'},\n",
    "        'fExt':'jpg',\n",
    "        'refSize' : [10,10,3],\n",
    "        'trainSplit' : 0.7,\n",
    "                'inf' : 1e10,\n",
    "        'seed':0}\n",
    "\n",
    "np.random.seed(opts['seed'])\n",
    "\n",
    "\n",
    "# read the data\n",
    "feat,label = read_data(opts['rdir'],\n",
    "                       opts['classNames'],\n",
    "                       opts['fExt'],\n",
    "                       opts['refSize'])\n",
    "print(feat,label)"
   ]
  },
  {
   "cell_type": "code",
   "execution_count": 47,
   "metadata": {},
   "outputs": [
    {
     "name": "stderr",
     "output_type": "stream",
     "text": [
      "C:\\Users\\nabhu\\Anaconda3\\lib\\site-packages\\sklearn\\model_selection\\_split.py:2026: FutureWarning: From version 0.21, test_size will always complement train_size unless both are specified.\n",
      "  FutureWarning)\n"
     ]
    }
   ],
   "source": [
    "feat = feat.reshape(feat.shape[0], 10*10*3)\n",
    "# train test split\n",
    "# ref: https://www.youtube.com/watch?v=Bk2-5FoQJr0\n",
    "ftrain,ftest,ltrain,ltest = train_test_split(feat,label,train_size=opts['trainSplit'])"
   ]
  },
  {
   "cell_type": "code",
   "execution_count": 54,
   "metadata": {},
   "outputs": [
    {
     "name": "stdout",
     "output_type": "stream",
     "text": [
      "Accuracy : 0.4583333333333333\n"
     ]
    }
   ],
   "source": [
    "nn = NearestNeighbor() # create a Nearest Neighbor classifier class\n",
    "nn.train(ftrain, ltrain) # train the classifier on the training images and labels\n",
    "y_pred = nn.predict(ftest) # predict labels on the test images\n",
    "print(\"Accuracy : {}\".format(np.mean(ltest==y_pred)))"
   ]
  },
  {
   "cell_type": "code",
   "execution_count": null,
   "metadata": {},
   "outputs": [],
   "source": []
  }
 ],
 "metadata": {
  "kernelspec": {
   "display_name": "Python 3",
   "language": "python",
   "name": "python3"
  },
  "language_info": {
   "codemirror_mode": {
    "name": "ipython",
    "version": 3
   },
   "file_extension": ".py",
   "mimetype": "text/x-python",
   "name": "python",
   "nbconvert_exporter": "python",
   "pygments_lexer": "ipython3",
   "version": "3.6.5"
  }
 },
 "nbformat": 4,
 "nbformat_minor": 2
}
