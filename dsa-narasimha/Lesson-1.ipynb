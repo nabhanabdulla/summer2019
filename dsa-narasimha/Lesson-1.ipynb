{
 "cells": [
  {
   "cell_type": "markdown",
   "metadata": {},
   "source": [
    "### Rates of growth:\n",
    "\n",
    "<p style=\"font-size:20px\"> $2^{2^n} > n! > 4^n > 2^n > n^2 > nlog(n) = log(n!) > n > 2^{logn} > log^{2}n > \\sqrt{logn} > log(logn) > 1$\t</p>"
   ]
  },
  {
   "cell_type": "markdown",
   "metadata": {},
   "source": [
    "<img src=\"Screenshots/nlogn-log(n!).png\" width=\"480px\">"
   ]
  },
  {
   "cell_type": "markdown",
   "metadata": {},
   "source": [
    "<table>\n",
    "     <thead>\n",
    "         <td>Time Complexity</td>\n",
    "         <td>Name</td>\n",
    "         <td>Example</td>\n",
    "    </thead>\n",
    "    \n",
    "    <tr>\n",
    "        <td> 1 </td>\n",
    "        <td> Constant </td>\n",
    "        <td> Adding an element to the front of a linked list </td>\n",
    "    </tr>\n",
    "    \n",
    "    <tr>\n",
    "        <td> logn </td>\n",
    "        <td> Logarithmic </td>\n",
    "        <td> Findig an element in a sorted array </td>\n",
    "    </tr>\n",
    "    \n",
    "    <tr>\n",
    "        <td> n </td>\n",
    "        <td> Linear </td>\n",
    "        <td> Finding an element in an unsorted array </td>\n",
    "    </tr>\n",
    "    \n",
    "    <tr>\n",
    "        <td> nlogn </td>\n",
    "        <td> Linear logarithmic </td>\n",
    "        <td> Sorting n items by divide and conquer - Mergesort</td>\n",
    "    </tr>\n",
    "    \n",
    "    <tr>\n",
    "        <td> $n^2$ </td>\n",
    "        <td> Quadratic</td>\n",
    "        <td> Shortest path b/w two nodes in a graph </td>\n",
    "    </tr>\n",
    "    \n",
    "    <tr>\n",
    "        <td>$n^3$ </td>\n",
    "        <td> Cubic </td>\n",
    "        <td> Matrix multiplication </td>\n",
    "    </tr>\n",
    "    \n",
    "    <tr>\n",
    "        <td>$2^n$ </td>\n",
    "        <td> Exponential </td>\n",
    "        <td> The towers of Hanoi problem </td>\n",
    "    </tr>\n",
    "    \n",
    "</table>"
   ]
  },
  {
   "cell_type": "markdown",
   "metadata": {},
   "source": [
    "**Bounds**:\n",
    "\n",
    "1. <b>Big-O Notation</b> [Upper Bounding Function] - \n",
    "\n",
    "    * $f(n) = O(g(n))$ ie, at larger values of n, the upper bound of $f(n)$ is $g(n)$\n",
    "\n",
    "    * O-notation is defined as $ O(g(n)) = \\{  f(n) : 0 \\leq f(n) \\leq c * g(n)$ for all $n \\geq n_0 $ c, $n_0 \\geq 0  \\} $\n",
    "    \n",
    "    \n",
    "2. <b>Omega-Q Notation</b> [Lower Bounding Function] - \n",
    "\n",
    "    * $f(n) = \\Omega(g(n))$ ie, at larger values of n, the lower bound of $f(n)$ is $g(n)$\n",
    "\n",
    "    * $\\Omega$-notation is defined as $ \\Omega(g(n)) = \\{  f(n) : 0 \\leq c*g(n) \\leq f(n)$ for all $n \\geq n_0 $ c, $n_0 \\geq 0  \\} $\n",
    "    \n",
    "\n",
    "3. <b>Theta-Θ Notation</b> [Order Function] - \n",
    "\n",
    "    * This notation decides whether the upper and lower bounds of a given function (algorithm) are the same. \n",
    "    * The **average running time of an algorithm** is always between the lower bound and the upper bound. \n",
    "    * If the upper bound (**O**) and lower bound (**Ω**) give the same result, then the **Θ** notation will also have the same rate of growth.\n",
    "    * As an example, let us assume that **f(n) = 10n + n** is the expression. Then, its tight upper bound **g(n)** is **O(n)**. The rate of growth in the best case is **g(n) = O(n)**. In this case, the rates of growth in the best case and worst case are the same. As a result, the average case will also be the same. \n",
    "    * For a given function (algorithm), if the rates of growth (bounds) for **O** and **Ω** are not the same, then the rate of growth for the **Θ** case may not be the same. In this case, we need to consider all possible time complexities and take the average of those\n",
    "    * It is defined as **Θ(g(n)) = {f(n): there exist positive constants c1,c2 and $n_0$ such that 0 ≤ $c_1$g(n) ≤ f(n) ≤ $c_2$g(n) for all n ≥ $n_0$}**. **g(n)** is an asymptotic tight bound for **f(n)**. \n",
    "    * **Θ(g(n))** is the set of functions with the same order of growth as **g(n)**\n",
    "  "
   ]
  },
  {
   "cell_type": "markdown",
   "metadata": {},
   "source": [
    "<p style=\"font-size:20px\"> $\\Theta$ bound for $f(n) = \\frac{n^2}{2} - \\frac{n}{2}  $ : </p>\n",
    "\n",
    "<p style=\"font-size:20px; text-align:center\">$\\frac{n^2}{5} \\leq \\frac{n^2}{2} - \\frac{n}{2} \\leq n^2 $ </p>\n",
    "\n",
    "**Therefore,** <p style=\"font-size:20px; text-align:center\">$\\frac{n^2}{2} - \\frac{n}{2} = \\Theta(n^2)$ with $c_1 = \\frac{1}{5}, c_2 = 1$ and $n_0 = 2$</p>"
   ]
  },
  {
   "cell_type": "markdown",
   "metadata": {},
   "source": []
  }
 ],
 "metadata": {
  "kernelspec": {
   "display_name": "Python 3",
   "language": "python",
   "name": "python3"
  },
  "language_info": {
   "codemirror_mode": {
    "name": "ipython",
    "version": 3
   },
   "file_extension": ".py",
   "mimetype": "text/x-python",
   "name": "python",
   "nbconvert_exporter": "python",
   "pygments_lexer": "ipython3",
   "version": "3.6.5"
  }
 },
 "nbformat": 4,
 "nbformat_minor": 2
}
