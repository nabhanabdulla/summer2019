{
 "cells": [
  {
   "cell_type": "markdown",
   "metadata": {},
   "source": [
    "### Based on [this](https://www.kaggle.com/c/word2vec-nlp-tutorial/overview/part-1-for-beginners-bag-of-words) Kaggle tutorial"
   ]
  },
  {
   "cell_type": "code",
   "execution_count": 27,
   "metadata": {},
   "outputs": [],
   "source": [
    "# read the training file\n",
    "import pandas as pd\n",
    "\n",
    "train = pd.read_csv('labeledTrainData.tsv', sep='\\t')"
   ]
  },
  {
   "cell_type": "code",
   "execution_count": 28,
   "metadata": {},
   "outputs": [
    {
     "data": {
      "text/html": [
       "<div>\n",
       "<style scoped>\n",
       "    .dataframe tbody tr th:only-of-type {\n",
       "        vertical-align: middle;\n",
       "    }\n",
       "\n",
       "    .dataframe tbody tr th {\n",
       "        vertical-align: top;\n",
       "    }\n",
       "\n",
       "    .dataframe thead th {\n",
       "        text-align: right;\n",
       "    }\n",
       "</style>\n",
       "<table border=\"1\" class=\"dataframe\">\n",
       "  <thead>\n",
       "    <tr style=\"text-align: right;\">\n",
       "      <th></th>\n",
       "      <th>id</th>\n",
       "      <th>sentiment</th>\n",
       "      <th>review</th>\n",
       "    </tr>\n",
       "  </thead>\n",
       "  <tbody>\n",
       "    <tr>\n",
       "      <th>0</th>\n",
       "      <td>5814_8</td>\n",
       "      <td>1</td>\n",
       "      <td>With all this stuff going down at the moment w...</td>\n",
       "    </tr>\n",
       "    <tr>\n",
       "      <th>1</th>\n",
       "      <td>2381_9</td>\n",
       "      <td>1</td>\n",
       "      <td>\\The Classic War of the Worlds\\\" by Timothy Hi...</td>\n",
       "    </tr>\n",
       "    <tr>\n",
       "      <th>2</th>\n",
       "      <td>7759_3</td>\n",
       "      <td>0</td>\n",
       "      <td>The film starts with a manager (Nicholas Bell)...</td>\n",
       "    </tr>\n",
       "    <tr>\n",
       "      <th>3</th>\n",
       "      <td>3630_4</td>\n",
       "      <td>0</td>\n",
       "      <td>It must be assumed that those who praised this...</td>\n",
       "    </tr>\n",
       "    <tr>\n",
       "      <th>4</th>\n",
       "      <td>9495_8</td>\n",
       "      <td>1</td>\n",
       "      <td>Superbly trashy and wondrously unpretentious 8...</td>\n",
       "    </tr>\n",
       "  </tbody>\n",
       "</table>\n",
       "</div>"
      ],
      "text/plain": [
       "       id  sentiment                                             review\n",
       "0  5814_8          1  With all this stuff going down at the moment w...\n",
       "1  2381_9          1  \\The Classic War of the Worlds\\\" by Timothy Hi...\n",
       "2  7759_3          0  The film starts with a manager (Nicholas Bell)...\n",
       "3  3630_4          0  It must be assumed that those who praised this...\n",
       "4  9495_8          1  Superbly trashy and wondrously unpretentious 8..."
      ]
     },
     "execution_count": 28,
     "metadata": {},
     "output_type": "execute_result"
    }
   ],
   "source": [
    "train.head()"
   ]
  },
  {
   "cell_type": "markdown",
   "metadata": {},
   "source": [
    "There are some stray quote marks in the data like in 2nd row review columns- \\The"
   ]
  },
  {
   "cell_type": "code",
   "execution_count": 32,
   "metadata": {},
   "outputs": [
    {
     "data": {
      "text/html": [
       "<div>\n",
       "<style scoped>\n",
       "    .dataframe tbody tr th:only-of-type {\n",
       "        vertical-align: middle;\n",
       "    }\n",
       "\n",
       "    .dataframe tbody tr th {\n",
       "        vertical-align: top;\n",
       "    }\n",
       "\n",
       "    .dataframe thead th {\n",
       "        text-align: right;\n",
       "    }\n",
       "</style>\n",
       "<table border=\"1\" class=\"dataframe\">\n",
       "  <thead>\n",
       "    <tr style=\"text-align: right;\">\n",
       "      <th></th>\n",
       "      <th>id</th>\n",
       "      <th>sentiment</th>\n",
       "      <th>review</th>\n",
       "    </tr>\n",
       "  </thead>\n",
       "  <tbody>\n",
       "    <tr>\n",
       "      <th>0</th>\n",
       "      <td>\"5814_8\"</td>\n",
       "      <td>1</td>\n",
       "      <td>\"With all this stuff going down at the moment ...</td>\n",
       "    </tr>\n",
       "    <tr>\n",
       "      <th>1</th>\n",
       "      <td>\"2381_9\"</td>\n",
       "      <td>1</td>\n",
       "      <td>\"\\\"The Classic War of the Worlds\\\" by Timothy ...</td>\n",
       "    </tr>\n",
       "    <tr>\n",
       "      <th>2</th>\n",
       "      <td>\"7759_3\"</td>\n",
       "      <td>0</td>\n",
       "      <td>\"The film starts with a manager (Nicholas Bell...</td>\n",
       "    </tr>\n",
       "    <tr>\n",
       "      <th>3</th>\n",
       "      <td>\"3630_4\"</td>\n",
       "      <td>0</td>\n",
       "      <td>\"It must be assumed that those who praised thi...</td>\n",
       "    </tr>\n",
       "    <tr>\n",
       "      <th>4</th>\n",
       "      <td>\"9495_8\"</td>\n",
       "      <td>1</td>\n",
       "      <td>\"Superbly trashy and wondrously unpretentious ...</td>\n",
       "    </tr>\n",
       "  </tbody>\n",
       "</table>\n",
       "</div>"
      ],
      "text/plain": [
       "         id  sentiment                                             review\n",
       "0  \"5814_8\"          1  \"With all this stuff going down at the moment ...\n",
       "1  \"2381_9\"          1  \"\\\"The Classic War of the Worlds\\\" by Timothy ...\n",
       "2  \"7759_3\"          0  \"The film starts with a manager (Nicholas Bell...\n",
       "3  \"3630_4\"          0  \"It must be assumed that those who praised thi...\n",
       "4  \"9495_8\"          1  \"Superbly trashy and wondrously unpretentious ..."
      ]
     },
     "execution_count": 32,
     "metadata": {},
     "output_type": "execute_result"
    }
   ],
   "source": [
    "import csv\n",
    "train = pd.read_csv('labeledTrainData.tsv', sep='\\t', quoting=csv.QUOTE_NONE) # ignore doubled quotes\n",
    "train.head()"
   ]
  },
  {
   "cell_type": "code",
   "execution_count": 36,
   "metadata": {},
   "outputs": [
    {
     "name": "stdout",
     "output_type": "stream",
     "text": [
      "(25000, 3)\n",
      "['id' 'sentiment' 'review']\n"
     ]
    }
   ],
   "source": [
    "print(train.shape, train.columns.values, sep='\\n')"
   ]
  },
  {
   "cell_type": "code",
   "execution_count": 49,
   "metadata": {},
   "outputs": [
    {
     "data": {
      "text/plain": [
       "'\"<br /><br />This movie is full of references. Like \\\\\"Mad Max II\\\\\", \\\\\"The wild one\\\\\" and many others. The ladybug´s face it´s a clear reference (or tribute) to Peter Lorre. This movie is a masterpiece. We´ll talk much more about in the future.\"'"
      ]
     },
     "execution_count": 49,
     "metadata": {},
     "output_type": "execute_result"
    }
   ],
   "source": [
    "train[\"review\"][9]"
   ]
  },
  {
   "cell_type": "markdown",
   "metadata": {},
   "source": [
    "### Data Cleaning and Text Preprocessing"
   ]
  },
  {
   "cell_type": "markdown",
   "metadata": {},
   "source": [
    "The review above has html tags such as < br > and other punctuations. We'll use BeautifulSoup to remove HTML markup"
   ]
  },
  {
   "cell_type": "code",
   "execution_count": 39,
   "metadata": {},
   "outputs": [],
   "source": [
    "from bs4 import BeautifulSoup as bsoup"
   ]
  },
  {
   "cell_type": "code",
   "execution_count": 52,
   "metadata": {},
   "outputs": [
    {
     "name": "stdout",
     "output_type": "stream",
     "text": [
      "\"<br /><br />This movie is full of references. Like \\\"Mad Max II\\\", \\\"The wild one\\\" and many others. The ladybug´s face it´s a clear reference (or tribute) to Peter Lorre. This movie is a masterpiece. We´ll talk much more about in the future.\" \n",
      "\n",
      "\n",
      "\"This movie is full of references. Like \\\"Mad Max II\\\", \\\"The wild one\\\" and many others. The ladybug´s face it´s a clear reference (or tribute) to Peter Lorre. This movie is a masterpiece. We´ll talk much more about in the future.\"\n"
     ]
    }
   ],
   "source": [
    "example1 = bsoup(train[\"review\"][9], 'html.parser')\n",
    "\n",
    "print(train.review[9], 2*'\\n')\n",
    "print(example1.get_text())"
   ]
  },
  {
   "cell_type": "markdown",
   "metadata": {},
   "source": [
    "* When considering how to clean the text, we should think about the data problem we are trying to solve. For many problems, it makes sense to remove punctuation. \n",
    "\n",
    "* On the other hand, in this case, we are tackling a sentiment analysis problem, and it is possible that \"!!!\" or \":-(\" could carry sentiment, and should be treated as words.\n",
    "\n",
    "In this tutorial, for simplicity, we remove the punctuation altogether. Similarly, in this tutorial we will remove numbers, but there are other ways of dealing with them that make just as much sense. For example, we could treat them as words, or replace them all with a placeholder string such as \"NUM\"."
   ]
  },
  {
   "cell_type": "code",
   "execution_count": 53,
   "metadata": {},
   "outputs": [
    {
     "name": "stdout",
     "output_type": "stream",
     "text": [
      " This movie is full of references  Like   Mad Max II      The wild one   and many others  The ladybug s face it s a clear reference  or tribute  to Peter Lorre  This movie is a masterpiece  We ll talk much more about in the future  \n"
     ]
    }
   ],
   "source": [
    "import re\n",
    "\n",
    "letters_only = re.sub(\"[^a-zA-Z]\", \" \", example1.get_text())\n",
    "print(letters_only)"
   ]
  },
  {
   "cell_type": "code",
   "execution_count": 54,
   "metadata": {},
   "outputs": [],
   "source": [
    "lower_case = letters_only.lower()\n",
    "words = lower_case.split()"
   ]
  },
  {
   "cell_type": "code",
   "execution_count": 55,
   "metadata": {},
   "outputs": [
    {
     "name": "stdout",
     "output_type": "stream",
     "text": [
      "['i', 'me', 'my', 'myself', 'we', 'our', 'ours', 'ourselves', 'you', \"you're\", \"you've\", \"you'll\", \"you'd\", 'your', 'yours', 'yourself', 'yourselves', 'he', 'him', 'his', 'himself', 'she', \"she's\", 'her', 'hers', 'herself', 'it', \"it's\", 'its', 'itself', 'they', 'them', 'their', 'theirs', 'themselves', 'what', 'which', 'who', 'whom', 'this', 'that', \"that'll\", 'these', 'those', 'am', 'is', 'are', 'was', 'were', 'be', 'been', 'being', 'have', 'has', 'had', 'having', 'do', 'does', 'did', 'doing', 'a', 'an', 'the', 'and', 'but', 'if', 'or', 'because', 'as', 'until', 'while', 'of', 'at', 'by', 'for', 'with', 'about', 'against', 'between', 'into', 'through', 'during', 'before', 'after', 'above', 'below', 'to', 'from', 'up', 'down', 'in', 'out', 'on', 'off', 'over', 'under', 'again', 'further', 'then', 'once', 'here', 'there', 'when', 'where', 'why', 'how', 'all', 'any', 'both', 'each', 'few', 'more', 'most', 'other', 'some', 'such', 'no', 'nor', 'not', 'only', 'own', 'same', 'so', 'than', 'too', 'very', 's', 't', 'can', 'will', 'just', 'don', \"don't\", 'should', \"should've\", 'now', 'd', 'll', 'm', 'o', 're', 've', 'y', 'ain', 'aren', \"aren't\", 'couldn', \"couldn't\", 'didn', \"didn't\", 'doesn', \"doesn't\", 'hadn', \"hadn't\", 'hasn', \"hasn't\", 'haven', \"haven't\", 'isn', \"isn't\", 'ma', 'mightn', \"mightn't\", 'mustn', \"mustn't\", 'needn', \"needn't\", 'shan', \"shan't\", 'shouldn', \"shouldn't\", 'wasn', \"wasn't\", 'weren', \"weren't\", 'won', \"won't\", 'wouldn', \"wouldn't\"]\n"
     ]
    }
   ],
   "source": [
    "import nltk\n",
    "from nltk.corpus import stopwords\n",
    "print(stopwords.words(\"english\"))"
   ]
  },
  {
   "cell_type": "code",
   "execution_count": 56,
   "metadata": {},
   "outputs": [
    {
     "name": "stdout",
     "output_type": "stream",
     "text": [
      "Before removing stopwords: \n",
      " ['this', 'movie', 'is', 'full', 'of', 'references', 'like', 'mad', 'max', 'ii', 'the', 'wild', 'one', 'and', 'many', 'others', 'the', 'ladybug', 's', 'face', 'it', 's', 'a', 'clear', 'reference', 'or', 'tribute', 'to', 'peter', 'lorre', 'this', 'movie', 'is', 'a', 'masterpiece', 'we', 'll', 'talk', 'much', 'more', 'about', 'in', 'the', 'future']\n",
      "After removing stopwords: \n",
      " ['movie', 'full', 'references', 'like', 'mad', 'max', 'ii', 'wild', 'one', 'many', 'others', 'ladybug', 'face', 'clear', 'reference', 'tribute', 'peter', 'lorre', 'movie', 'masterpiece', 'talk', 'much', 'future']\n"
     ]
    }
   ],
   "source": [
    "print(\"Before removing stopwords: \\n\", words)\n",
    "words = [word for word in words if word not in stopwords.words(\"english\")]\n",
    "print(\"After removing stopwords: \\n\", words)"
   ]
  },
  {
   "cell_type": "code",
   "execution_count": 62,
   "metadata": {},
   "outputs": [],
   "source": [
    "def review_to_words(raw_review):\n",
    "    review_text = bsoup(raw_review, 'html.parser').get_text()\n",
    "    letters_only = re.sub(\"[^a-zA-Z]\", \" \", review_text)\n",
    "    words = letters_only.lower().split()\n",
    "    stops = set(stopwords.words(\"english\"))\n",
    "    meaningful_words = [word for word in words if word not in stops]\n",
    "    \n",
    "    return ' '.join(meaningful_words)    "
   ]
  },
  {
   "cell_type": "code",
   "execution_count": 63,
   "metadata": {},
   "outputs": [
    {
     "name": "stdout",
     "output_type": "stream",
     "text": [
      "movie full references like mad max ii wild one many others ladybug face clear reference tribute peter lorre movie masterpiece talk much future\n"
     ]
    }
   ],
   "source": [
    "clean_review = review_to_words(train[\"review\"][9])\n",
    "print(clean_review)"
   ]
  },
  {
   "cell_type": "markdown",
   "metadata": {},
   "source": [
    "### Working on the whole dataset"
   ]
  },
  {
   "cell_type": "code",
   "execution_count": 65,
   "metadata": {},
   "outputs": [
    {
     "name": "stderr",
     "output_type": "stream",
     "text": [
      "100%|███████████████████████████████████████████████████████████████████████████████████████████| 25000/25000 [00:26<00:00, 942.92it/s]\n"
     ]
    },
    {
     "name": "stdout",
     "output_type": "stream",
     "text": [
      "movie full references like mad max ii wild one many others ladybug face clear reference tribute peter lorre movie masterpiece talk much future\n"
     ]
    }
   ],
   "source": [
    "from tqdm import tqdm\n",
    "\n",
    "num_reviews = train[\"review\"].size\n",
    "clean_train_reviews = []\n",
    "\n",
    "for i in tqdm(range(0, num_reviews)):\n",
    "    clean_train_reviews.append(review_to_words(train[\"review\"][i]))\n",
    "    \n",
    "print(clean_train_reviews[9])"
   ]
  },
  {
   "cell_type": "markdown",
   "metadata": {},
   "source": [
    "### Representing input as Bag of Words"
   ]
  },
  {
   "cell_type": "code",
   "execution_count": 66,
   "metadata": {},
   "outputs": [
    {
     "name": "stdout",
     "output_type": "stream",
     "text": [
      "<class 'scipy.sparse.csr.csr_matrix'>\n"
     ]
    }
   ],
   "source": [
    "# CountVectorizer is sklearn's bow tool\n",
    "from sklearn.feature_extraction.text import CountVectorizer\n",
    "\n",
    "vectorizer = CountVectorizer(analyzer=\"word\", tokenizer=None, preprocessor=None, stop_words=None, max_features=5000)\n",
    "\n",
    "train_data_features = vectorizer.fit_transform(clean_train_reviews)\n",
    "print(type(train_data_features))\n",
    "train_data_features = train_data_features.toarray()"
   ]
  },
  {
   "cell_type": "code",
   "execution_count": 76,
   "metadata": {},
   "outputs": [
    {
     "name": "stdout",
     "output_type": "stream",
     "text": [
      "(25000, 5000)\n",
      "[0 0 0 ... 0 0 0]\n"
     ]
    }
   ],
   "source": [
    "import numpy as np\n",
    "print(train_data_features.shape)\n",
    "print(train_data_features[9])"
   ]
  },
  {
   "cell_type": "code",
   "execution_count": 78,
   "metadata": {},
   "outputs": [
    {
     "name": "stdout",
     "output_type": "stream",
     "text": [
      "['abandoned', 'abc', 'abilities', 'ability', 'able', 'abraham', 'absence', 'absent', 'absolute', 'absolutely']\n"
     ]
    }
   ],
   "source": [
    "vocab = vectorizer.get_feature_names()\n",
    "print(vocab[:10])"
   ]
  },
  {
   "cell_type": "code",
   "execution_count": 85,
   "metadata": {},
   "outputs": [
    {
     "name": "stdout",
     "output_type": "stream",
     "text": [
      "['clear' 'face' 'full' 'future' 'ii' 'like' 'mad' 'many' 'masterpiece'\n",
      " 'max' 'movie' 'much' 'one' 'others' 'peter' 'reference' 'references'\n",
      " 'talk' 'tribute' 'wild']\n"
     ]
    }
   ],
   "source": [
    "# print vocabulary entries for which this review has nonzero values\n",
    "non_zero_indices = list(np.flatnonzero(train_data_features[9]))\n",
    "print(np.array(vocab)[non_zero_indices])"
   ]
  },
  {
   "cell_type": "code",
   "execution_count": 90,
   "metadata": {},
   "outputs": [
    {
     "name": "stdout",
     "output_type": "stream",
     "text": [
      "187 abandoned\n"
     ]
    }
   ],
   "source": [
    "# get count of each vocabulary word in the data set\n",
    "dist = np.sum(train_data_features, axis=0)\n",
    "for tag, count in zip(vocab, dist):\n",
    "    print(count, tag)\n",
    "    break"
   ]
  },
  {
   "cell_type": "code",
   "execution_count": 97,
   "metadata": {},
   "outputs": [],
   "source": [
    "from sklearn.ensemble import RandomForestClassifier\n",
    "\n",
    "forest = RandomForestClassifier(n_estimators=100)\n",
    "forest = forest.fit(train_data_features, train[\"sentiment\"])"
   ]
  },
  {
   "cell_type": "code",
   "execution_count": 98,
   "metadata": {},
   "outputs": [
    {
     "name": "stdout",
     "output_type": "stream",
     "text": [
      "(25000, 2)\n"
     ]
    },
    {
     "name": "stderr",
     "output_type": "stream",
     "text": [
      "\n",
      "  0%|                                                                                                        | 0/25000 [00:00<?, ?it/s]\n",
      "  0%|▎                                                                                             | 98/25000 [00:00<00:28, 884.81it/s]\n",
      "  1%|▊                                                                                            | 213/25000 [00:00<00:26, 943.79it/s]\n",
      "  1%|█▏                                                                                           | 320/25000 [00:00<00:25, 978.08it/s]\n",
      "  2%|█▌                                                                                           | 420/25000 [00:00<00:25, 973.16it/s]\n",
      "  2%|█▉                                                                                           | 526/25000 [00:00<00:24, 994.94it/s]\n",
      "  3%|██▎                                                                                         | 632/25000 [00:00<00:24, 1003.06it/s]\n",
      "  3%|██▊                                                                                         | 749/25000 [00:00<00:23, 1029.38it/s]\n",
      "  3%|███▏                                                                                        | 859/25000 [00:00<00:23, 1038.84it/s]\n",
      "  4%|███▋                                                                                        | 989/25000 [00:00<00:22, 1065.31it/s]\n",
      "  4%|████                                                                                       | 1110/25000 [00:01<00:22, 1060.72it/s]\n",
      "  5%|████▍                                                                                      | 1221/25000 [00:01<00:22, 1064.00it/s]\n",
      "  5%|████▊                                                                                      | 1333/25000 [00:01<00:22, 1042.57it/s]\n",
      "  6%|█████▏                                                                                     | 1437/25000 [00:01<00:22, 1027.04it/s]\n",
      "  6%|█████▋                                                                                     | 1564/25000 [00:01<00:22, 1056.96it/s]\n",
      "  7%|██████                                                                                     | 1670/25000 [00:01<00:22, 1055.59it/s]\n",
      "  7%|██████▍                                                                                    | 1776/25000 [00:01<00:22, 1048.35it/s]\n",
      "  8%|██████▉                                                                                    | 1896/25000 [00:01<00:22, 1049.81it/s]\n",
      "  8%|███████▎                                                                                   | 2001/25000 [00:01<00:22, 1039.00it/s]\n",
      "  8%|███████▋                                                                                   | 2117/25000 [00:02<00:22, 1036.42it/s]\n",
      "  9%|████████                                                                                   | 2227/25000 [00:02<00:21, 1042.50it/s]\n",
      "  9%|████████▍                                                                                  | 2332/25000 [00:02<00:21, 1043.94it/s]\n",
      " 10%|████████▉                                                                                  | 2449/25000 [00:02<00:21, 1038.99it/s]\n",
      " 10%|█████████▎                                                                                 | 2560/25000 [00:02<00:21, 1055.80it/s]\n",
      " 11%|█████████▊                                                                                 | 2686/25000 [00:02<00:20, 1068.38it/s]\n",
      " 11%|██████████▏                                                                                | 2814/25000 [00:02<00:20, 1081.52it/s]\n",
      " 12%|██████████▋                                                                                | 2924/25000 [00:02<00:20, 1075.61it/s]\n",
      " 12%|███████████                                                                                | 3056/25000 [00:02<00:20, 1095.60it/s]\n",
      " 13%|███████████▌                                                                               | 3166/25000 [00:03<00:20, 1084.58it/s]\n",
      " 13%|███████████▉                                                                               | 3288/25000 [00:03<00:20, 1083.69it/s]\n",
      " 14%|████████████▍                                                                              | 3418/25000 [00:03<00:19, 1097.64it/s]\n",
      " 14%|████████████▊                                                                              | 3536/25000 [00:03<00:19, 1110.13it/s]\n",
      " 15%|█████████████▎                                                                             | 3648/25000 [00:03<00:19, 1109.77it/s]\n",
      " 15%|█████████████▋                                                                             | 3760/25000 [00:03<00:19, 1065.49it/s]\n",
      " 16%|██████████████                                                                             | 3878/25000 [00:03<00:19, 1096.09it/s]\n",
      " 16%|██████████████▌                                                                            | 3994/25000 [00:03<00:19, 1067.25it/s]\n",
      " 16%|██████████████▉                                                                            | 4104/25000 [00:03<00:19, 1073.76it/s]\n",
      " 17%|███████████████▎                                                                           | 4223/25000 [00:03<00:19, 1062.94it/s]\n",
      " 17%|███████████████▊                                                                           | 4330/25000 [00:04<00:19, 1054.36it/s]\n",
      " 18%|████████████████▏                                                                          | 4436/25000 [00:04<00:19, 1053.90it/s]\n",
      " 18%|████████████████▌                                                                          | 4551/25000 [00:04<00:19, 1043.28it/s]\n",
      " 19%|████████████████▉                                                                          | 4664/25000 [00:04<00:19, 1056.93it/s]\n",
      " 19%|█████████████████▍                                                                         | 4786/25000 [00:04<00:19, 1056.69it/s]\n",
      " 20%|█████████████████▊                                                                         | 4894/25000 [00:04<00:18, 1063.03it/s]\n",
      " 20%|██████████████████▎                                                                        | 5016/25000 [00:04<00:18, 1062.93it/s]\n",
      " 21%|██████████████████▋                                                                        | 5143/25000 [00:04<00:18, 1075.90it/s]\n",
      " 21%|███████████████████▏                                                                       | 5260/25000 [00:04<00:18, 1092.42it/s]\n",
      " 22%|███████████████████▌                                                                       | 5382/25000 [00:05<00:18, 1081.27it/s]\n",
      " 22%|████████████████████                                                                       | 5508/25000 [00:05<00:17, 1083.96it/s]\n",
      " 22%|████████████████████▍                                                                      | 5623/25000 [00:05<00:17, 1086.27it/s]\n",
      " 23%|████████████████████▉                                                                      | 5741/25000 [00:05<00:17, 1078.11it/s]\n",
      " 23%|█████████████████████▎                                                                     | 5869/25000 [00:05<00:17, 1088.06it/s]\n",
      " 24%|█████████████████████▊                                                                     | 5984/25000 [00:05<00:17, 1089.51it/s]\n",
      " 24%|██████████████████████▏                                                                    | 6108/25000 [00:05<00:17, 1086.81it/s]\n",
      " 25%|██████████████████████▋                                                                    | 6241/25000 [00:05<00:16, 1107.92it/s]\n",
      " 25%|███████████████████████▏                                                                   | 6363/25000 [00:05<00:16, 1126.91it/s]\n",
      " 26%|███████████████████████▋                                                                   | 6492/25000 [00:06<00:16, 1126.43it/s]\n",
      " 26%|████████████████████████                                                                   | 6605/25000 [00:06<00:16, 1127.46it/s]\n",
      " 27%|████████████████████████▌                                                                  | 6739/25000 [00:06<00:16, 1139.65it/s]\n",
      " 27%|████████████████████████▉                                                                  | 6857/25000 [00:06<00:15, 1141.75it/s]\n"
     ]
    },
    {
     "name": "stderr",
     "output_type": "stream",
     "text": [
      " 28%|█████████████████████████▍                                                                 | 6991/25000 [00:06<00:15, 1149.10it/s]\n",
      " 28%|█████████████████████████▉                                                                 | 7122/25000 [00:06<00:15, 1147.26it/s]\n",
      " 29%|██████████████████████████▎                                                                | 7239/25000 [00:06<00:15, 1141.69it/s]\n",
      " 29%|██████████████████████████▊                                                                | 7369/25000 [00:06<00:15, 1139.37it/s]\n",
      " 30%|███████████████████████████▏                                                               | 7484/25000 [00:06<00:15, 1142.48it/s]\n",
      " 30%|███████████████████████████▋                                                               | 7599/25000 [00:07<00:15, 1144.32it/s]\n",
      " 31%|████████████████████████████▏                                                              | 7734/25000 [00:07<00:14, 1154.10it/s]\n",
      " 31%|████████████████████████████▌                                                              | 7850/25000 [00:07<00:14, 1151.68it/s]\n",
      " 32%|█████████████████████████████                                                              | 7976/25000 [00:07<00:14, 1136.49it/s]\n",
      " 32%|█████████████████████████████▍                                                             | 8094/25000 [00:07<00:15, 1113.54it/s]\n",
      " 33%|█████████████████████████████▉                                                             | 8209/25000 [00:07<00:15, 1098.21it/s]\n",
      " 33%|██████████████████████████████▎                                                            | 8330/25000 [00:07<00:14, 1120.57it/s]\n",
      " 34%|██████████████████████████████▋                                                            | 8443/25000 [00:07<00:14, 1123.24it/s]\n",
      " 34%|███████████████████████████████▏                                                           | 8567/25000 [00:07<00:14, 1110.20it/s]\n",
      " 35%|███████████████████████████████▋                                                           | 8704/25000 [00:08<00:14, 1132.14it/s]\n",
      " 35%|████████████████████████████████                                                           | 8818/25000 [00:08<00:14, 1124.08it/s]\n",
      " 36%|████████████████████████████████▌                                                          | 8931/25000 [00:08<00:14, 1125.61it/s]\n",
      " 36%|████████████████████████████████▉                                                          | 9046/25000 [00:08<00:14, 1121.24it/s]\n",
      " 37%|█████████████████████████████████▎                                                         | 9163/25000 [00:08<00:14, 1101.46it/s]\n",
      " 37%|█████████████████████████████████▊                                                         | 9282/25000 [00:08<00:14, 1117.30it/s]\n",
      " 38%|██████████████████████████████████▎                                                        | 9424/25000 [00:08<00:13, 1149.72it/s]\n",
      " 38%|██████████████████████████████████▊                                                        | 9559/25000 [00:08<00:13, 1157.85it/s]\n",
      " 39%|███████████████████████████████████▏                                                       | 9676/25000 [00:08<00:13, 1160.37it/s]\n",
      " 39%|███████████████████████████████████▋                                                       | 9799/25000 [00:08<00:13, 1161.75it/s]\n",
      " 40%|████████████████████████████████████▏                                                      | 9925/25000 [00:09<00:13, 1154.22it/s]\n",
      " 40%|████████████████████████████████████▏                                                     | 10045/25000 [00:09<00:12, 1157.28it/s]\n",
      " 41%|████████████████████████████████████▋                                                     | 10177/25000 [00:09<00:12, 1154.29it/s]\n",
      " 41%|█████████████████████████████████████                                                     | 10293/25000 [00:09<00:12, 1139.36it/s]\n",
      " 42%|█████████████████████████████████████▍                                                    | 10415/25000 [00:09<00:12, 1127.96it/s]\n",
      " 42%|█████████████████████████████████████▉                                                    | 10539/25000 [00:09<00:12, 1148.11it/s]\n",
      " 43%|██████████████████████████████████████▎                                                   | 10654/25000 [00:09<00:13, 1097.29it/s]\n",
      " 43%|██████████████████████████████████████▊                                                   | 10765/25000 [00:09<00:13, 1094.80it/s]\n",
      " 44%|███████████████████████████████████████▏                                                  | 10875/25000 [00:09<00:13, 1077.09it/s]\n",
      " 44%|███████████████████████████████████████▌                                                  | 10992/25000 [00:10<00:12, 1083.62it/s]\n",
      " 45%|████████████████████████████████████████                                                  | 11127/25000 [00:10<00:12, 1111.07it/s]\n",
      " 45%|████████████████████████████████████████▌                                                 | 11250/25000 [00:10<00:12, 1135.09it/s]\n",
      " 46%|████████████████████████████████████████▉                                                 | 11383/25000 [00:10<00:11, 1143.49it/s]\n",
      " 46%|█████████████████████████████████████████▍                                                | 11498/25000 [00:10<00:11, 1127.23it/s]\n",
      " 46%|█████████████████████████████████████████▊                                                | 11614/25000 [00:10<00:12, 1090.99it/s]\n",
      " 47%|██████████████████████████████████████████▏                                               | 11734/25000 [00:10<00:12, 1076.58it/s]\n",
      " 47%|██████████████████████████████████████████▋                                               | 11849/25000 [00:10<00:12, 1087.96it/s]\n",
      " 48%|███████████████████████████████████████████▏                                              | 11983/25000 [00:10<00:11, 1111.26it/s]\n",
      " 48%|███████████████████████████████████████████▌                                              | 12095/25000 [00:11<00:12, 1064.00it/s]\n",
      " 49%|███████████████████████████████████████████▉                                              | 12209/25000 [00:11<00:11, 1076.88it/s]\n",
      " 49%|████████████████████████████████████████████▍                                             | 12330/25000 [00:11<00:11, 1068.06it/s]\n",
      " 50%|████████████████████████████████████████████▊                                             | 12462/25000 [00:11<00:11, 1089.95it/s]\n",
      " 50%|█████████████████████████████████████████████▎                                            | 12572/25000 [00:11<00:11, 1081.44it/s]\n",
      " 51%|█████████████████████████████████████████████▋                                            | 12681/25000 [00:11<00:11, 1083.34it/s]\n",
      " 51%|██████████████████████████████████████████████                                            | 12802/25000 [00:11<00:11, 1074.41it/s]\n",
      " 52%|██████████████████████████████████████████████▌                                           | 12933/25000 [00:11<00:11, 1093.73it/s]\n",
      " 52%|███████████████████████████████████████████████                                           | 13058/25000 [00:11<00:10, 1125.91it/s]\n",
      " 53%|███████████████████████████████████████████████▍                                          | 13193/25000 [00:12<00:10, 1140.72it/s]\n",
      " 53%|███████████████████████████████████████████████▉                                          | 13318/25000 [00:12<00:10, 1123.53it/s]\n",
      " 54%|████████████████████████████████████████████████▎                                         | 13431/25000 [00:12<00:10, 1110.66it/s]\n",
      " 54%|████████████████████████████████████████████████▊                                         | 13548/25000 [00:12<00:10, 1085.13it/s]\n",
      " 55%|█████████████████████████████████████████████████▎                                        | 13692/25000 [00:12<00:09, 1130.86it/s]\n",
      " 55%|█████████████████████████████████████████████████▋                                        | 13808/25000 [00:12<00:09, 1127.56it/s]\n",
      " 56%|██████████████████████████████████████████████████▏                                       | 13941/25000 [00:12<00:09, 1137.18it/s]\n",
      " 56%|██████████████████████████████████████████████████▋                                       | 14072/25000 [00:12<00:09, 1136.14it/s]\n",
      " 57%|███████████████████████████████████████████████████                                       | 14193/25000 [00:12<00:09, 1146.96it/s]\n"
     ]
    },
    {
     "name": "stderr",
     "output_type": "stream",
     "text": [
      " 57%|███████████████████████████████████████████████████▌                                      | 14328/25000 [00:13<00:09, 1154.49it/s]\n",
      " 58%|███████████████████████████████████████████████████▉                                      | 14444/25000 [00:13<00:09, 1137.97it/s]\n",
      " 58%|████████████████████████████████████████████████████▍                                     | 14567/25000 [00:13<00:09, 1124.46it/s]\n",
      " 59%|████████████████████████████████████████████████████▉                                     | 14699/25000 [00:13<00:09, 1130.64it/s]\n",
      " 59%|█████████████████████████████████████████████████████▍                                    | 14832/25000 [00:13<00:08, 1139.61it/s]\n",
      " 60%|█████████████████████████████████████████████████████▊                                    | 14953/25000 [00:13<00:08, 1148.11it/s]\n",
      " 60%|██████████████████████████████████████████████████████▏                                   | 15068/25000 [00:13<00:08, 1147.26it/s]\n",
      " 61%|██████████████████████████████████████████████████████▋                                   | 15198/25000 [00:13<00:08, 1141.94it/s]\n",
      " 61%|███████████████████████████████████████████████████████▏                                  | 15334/25000 [00:13<00:08, 1153.79it/s]\n",
      " 62%|███████████████████████████████████████████████████████▋                                  | 15452/25000 [00:14<00:08, 1151.31it/s]\n",
      " 62%|████████████████████████████████████████████████████████                                  | 15582/25000 [00:14<00:08, 1144.70it/s]\n",
      " 63%|████████████████████████████████████████████████████████▌                                 | 15719/25000 [00:14<00:08, 1159.27it/s]\n",
      " 63%|█████████████████████████████████████████████████████████                                 | 15844/25000 [00:14<00:07, 1174.42it/s]\n",
      " 64%|█████████████████████████████████████████████████████████▍                                | 15962/25000 [00:14<00:07, 1176.01it/s]\n",
      " 64%|█████████████████████████████████████████████████████████▉                                | 16081/25000 [00:14<00:07, 1128.30it/s]\n",
      " 65%|██████████████████████████████████████████████████████████▎                               | 16196/25000 [00:14<00:07, 1134.35it/s]\n",
      " 65%|██████████████████████████████████████████████████████████▊                               | 16326/25000 [00:14<00:07, 1133.61it/s]\n",
      " 66%|███████████████████████████████████████████████████████████▏                              | 16445/25000 [00:14<00:07, 1141.48it/s]\n",
      " 66%|███████████████████████████████████████████████████████████▋                              | 16572/25000 [00:14<00:07, 1129.99it/s]\n",
      " 67%|████████████████████████████████████████████████████████████▏                             | 16704/25000 [00:15<00:07, 1134.33it/s]\n",
      " 67%|████████████████████████████████████████████████████████████▌                             | 16826/25000 [00:15<00:07, 1135.24it/s]\n",
      " 68%|█████████████████████████████████████████████████████████████                             | 16946/25000 [00:15<00:07, 1116.77it/s]\n",
      " 68%|█████████████████████████████████████████████████████████████▍                            | 17067/25000 [00:15<00:07, 1096.15it/s]\n",
      " 69%|█████████████████████████████████████████████████████████████▊                            | 17185/25000 [00:15<00:07, 1109.74it/s]\n",
      " 69%|██████████████████████████████████████████████████████████████▍                           | 17327/25000 [00:15<00:06, 1143.51it/s]\n",
      " 70%|██████████████████████████████████████████████████████████████▊                           | 17449/25000 [00:15<00:06, 1152.96it/s]\n",
      " 70%|███████████████████████████████████████████████████████████████▎                          | 17577/25000 [00:15<00:06, 1154.06it/s]\n",
      " 71%|███████████████████████████████████████████████████████████████▋                          | 17694/25000 [00:15<00:06, 1150.15it/s]\n",
      " 71%|████████████████████████████████████████████████████████████████▏                         | 17823/25000 [00:16<00:06, 1141.81it/s]\n",
      " 72%|████████████████████████████████████████████████████████████████▌                         | 17950/25000 [00:16<00:06, 1128.93it/s]\n",
      " 72%|█████████████████████████████████████████████████████████████████                         | 18067/25000 [00:16<00:06, 1129.32it/s]\n",
      " 73%|█████████████████████████████████████████████████████████████████▌                        | 18199/25000 [00:16<00:05, 1135.91it/s]\n",
      " 73%|█████████████████████████████████████████████████████████████████▉                        | 18322/25000 [00:16<00:05, 1115.56it/s]\n",
      " 74%|██████████████████████████████████████████████████████████████████▎                       | 18435/25000 [00:16<00:05, 1103.51it/s]\n",
      " 74%|██████████████████████████████████████████████████████████████████▊                       | 18564/25000 [00:16<00:05, 1108.90it/s]\n",
      " 75%|███████████████████████████████████████████████████████████████████▏                      | 18677/25000 [00:16<00:05, 1114.23it/s]\n",
      " 75%|███████████████████████████████████████████████████████████████████▋                      | 18808/25000 [00:16<00:05, 1122.65it/s]\n",
      " 76%|████████████████████████████████████████████████████████████████████▏                     | 18926/25000 [00:17<00:05, 1129.98it/s]\n",
      " 76%|████████████████████████████████████████████████████████████████████▌                     | 19043/25000 [00:17<00:05, 1129.47it/s]\n",
      " 77%|████████████████████████████████████████████████████████████████████▉                     | 19164/25000 [00:17<00:05, 1118.54it/s]\n",
      " 77%|█████████████████████████████████████████████████████████████████████▍                    | 19276/25000 [00:17<00:05, 1103.29it/s]\n",
      " 78%|█████████████████████████████████████████████████████████████████████▊                    | 19395/25000 [00:17<00:05, 1085.03it/s]\n",
      " 78%|██████████████████████████████████████████████████████████████████████▎                   | 19527/25000 [00:17<00:04, 1102.01it/s]\n",
      " 79%|██████████████████████████████████████████████████████████████████████▊                   | 19660/25000 [00:17<00:04, 1118.61it/s]\n",
      " 79%|███████████████████████████████████████████████████████████████████████▏                  | 19781/25000 [00:17<00:04, 1135.48it/s]\n",
      " 80%|███████████████████████████████████████████████████████████████████████▌                  | 19895/25000 [00:17<00:04, 1134.30it/s]\n",
      " 80%|████████████████████████████████████████████████████████████████████████                  | 20009/25000 [00:18<00:04, 1131.75it/s]\n",
      " 80%|████████████████████████████████████████████████████████████████████████▍                 | 20125/25000 [00:18<00:04, 1096.36it/s]\n",
      " 81%|████████████████████████████████████████████████████████████████████████▊                 | 20235/25000 [00:18<00:04, 1085.53it/s]\n",
      " 81%|█████████████████████████████████████████████████████████████████████████▎                | 20357/25000 [00:18<00:04, 1083.13it/s]\n",
      " 82%|█████████████████████████████████████████████████████████████████████████▋                | 20485/25000 [00:18<00:04, 1091.19it/s]\n",
      " 82%|██████████████████████████████████████████████████████████████████████████▏               | 20595/25000 [00:18<00:04, 1083.29it/s]\n",
      " 83%|██████████████████████████████████████████████████████████████████████████▌               | 20727/25000 [00:18<00:03, 1101.97it/s]\n",
      " 83%|███████████████████████████████████████████████████████████████████████████               | 20864/25000 [00:18<00:03, 1125.74it/s]\n",
      " 84%|███████████████████████████████████████████████████████████████████████████▌              | 20989/25000 [00:18<00:03, 1113.64it/s]\n",
      " 84%|███████████████████████████████████████████████████████████████████████████▉              | 21101/25000 [00:19<00:03, 1105.32it/s]\n",
      " 85%|████████████████████████████████████████████████████████████████████████████▎             | 21212/25000 [00:19<00:03, 1101.28it/s]\n",
      " 85%|████████████████████████████████████████████████████████████████████████████▊             | 21343/25000 [00:19<00:03, 1118.51it/s]\n",
      " 86%|█████████████████████████████████████████████████████████████████████████████▎            | 21466/25000 [00:19<00:03, 1139.66it/s]\n",
      " 86%|█████████████████████████████████████████████████████████████████████████████▋            | 21588/25000 [00:19<00:03, 1113.83it/s]\n"
     ]
    },
    {
     "name": "stderr",
     "output_type": "stream",
     "text": [
      " 87%|██████████████████████████████████████████████████████████████████████████████            | 21700/25000 [00:19<00:02, 1112.73it/s]\n",
      " 87%|██████████████████████████████████████████████████████████████████████████████▌           | 21812/25000 [00:19<00:02, 1112.35it/s]\n",
      " 88%|██████████████████████████████████████████████████████████████████████████████▉           | 21932/25000 [00:19<00:02, 1093.59it/s]\n",
      " 88%|███████████████████████████████████████████████████████████████████████████████▍          | 22068/25000 [00:19<00:02, 1118.97it/s]\n",
      " 89%|███████████████████████████████████████████████████████████████████████████████▉          | 22192/25000 [00:20<00:02, 1130.38it/s]\n",
      " 89%|████████████████████████████████████████████████████████████████████████████████▎         | 22315/25000 [00:20<00:02, 1125.42it/s]\n",
      " 90%|████████████████████████████████████████████████████████████████████████████████▊         | 22432/25000 [00:20<00:02, 1126.47it/s]\n",
      " 90%|█████████████████████████████████████████████████████████████████████████████████▏        | 22567/25000 [00:20<00:02, 1141.13it/s]\n",
      " 91%|█████████████████████████████████████████████████████████████████████████████████▋        | 22698/25000 [00:20<00:02, 1141.07it/s]\n",
      " 91%|██████████████████████████████████████████████████████████████████████████████████▏       | 22822/25000 [00:20<00:01, 1157.45it/s]\n",
      " 92%|██████████████████████████████████████████████████████████████████████████████████▋       | 22953/25000 [00:20<00:01, 1153.30it/s]\n",
      " 92%|███████████████████████████████████████████████████████████████████████████████████       | 23089/25000 [00:20<00:01, 1161.36it/s]\n",
      " 93%|███████████████████████████████████████████████████████████████████████████████████▌      | 23206/25000 [00:20<00:01, 1100.66it/s]\n",
      " 93%|███████████████████████████████████████████████████████████████████████████████████▉      | 23317/25000 [00:21<00:01, 1059.64it/s]\n",
      " 94%|█████████████████████████████████████████████████████████████████████████████████████▎     | 23424/25000 [00:21<00:01, 993.73it/s]\n",
      " 94%|█████████████████████████████████████████████████████████████████████████████████████▋     | 23528/25000 [00:21<00:01, 971.14it/s]\n",
      " 95%|██████████████████████████████████████████████████████████████████████████████████████     | 23627/25000 [00:21<00:01, 929.15it/s]\n",
      " 95%|██████████████████████████████████████████████████████████████████████████████████████▎    | 23722/25000 [00:21<00:01, 932.79it/s]\n",
      " 95%|██████████████████████████████████████████████████████████████████████████████████████▋    | 23822/25000 [00:21<00:01, 914.66it/s]\n",
      " 96%|███████████████████████████████████████████████████████████████████████████████████████    | 23915/25000 [00:21<00:01, 917.45it/s]\n",
      " 96%|███████████████████████████████████████████████████████████████████████████████████████▍   | 24008/25000 [00:21<00:01, 917.09it/s]\n",
      " 96%|███████████████████████████████████████████████████████████████████████████████████████▋   | 24101/25000 [00:21<00:01, 885.39it/s]\n",
      " 97%|████████████████████████████████████████████████████████████████████████████████████████   | 24190/25000 [00:22<00:00, 884.30it/s]\n",
      " 97%|████████████████████████████████████████████████████████████████████████████████████████▍  | 24279/25000 [00:22<00:00, 837.43it/s]\n",
      " 97%|████████████████████████████████████████████████████████████████████████████████████████▋  | 24367/25000 [00:22<00:00, 848.75it/s]\n",
      " 98%|█████████████████████████████████████████████████████████████████████████████████████████  | 24455/25000 [00:22<00:00, 827.28it/s]\n",
      " 98%|█████████████████████████████████████████████████████████████████████████████████████████▎ | 24539/25000 [00:22<00:00, 824.81it/s]\n",
      " 98%|█████████████████████████████████████████████████████████████████████████████████████████▋ | 24623/25000 [00:22<00:00, 794.63it/s]\n",
      " 99%|█████████████████████████████████████████████████████████████████████████████████████████▉ | 24718/25000 [00:22<00:00, 826.16it/s]\n",
      " 99%|██████████████████████████████████████████████████████████████████████████████████████████▎| 24814/25000 [00:22<00:00, 835.07it/s]\n",
      "100%|██████████████████████████████████████████████████████████████████████████████████████████▋| 24919/25000 [00:22<00:00, 888.48it/s]\n",
      "100%|██████████████████████████████████████████████████████████████████████████████████████████| 25000/25000 [00:22<00:00, 1088.45it/s]"
     ]
    }
   ],
   "source": [
    "test = pd.read_csv(\"testData.tsv\", header=0, delimiter='\\t', quoting=csv.QUOTE_NONE)\n",
    "print(test.shape)\n",
    "\n",
    "num_reviews = len(test[\"review\"])\n",
    "clean_test_reviews = []\n",
    "for review in tqdm(test[\"review\"]):\n",
    "    clean_test_reviews.append(review_to_words(review))"
   ]
  },
  {
   "cell_type": "code",
   "execution_count": 99,
   "metadata": {},
   "outputs": [],
   "source": [
    "test_data_features = vectorizer.transform(clean_test_reviews)\n",
    "test_data_features = test_data_features.toarray()"
   ]
  },
  {
   "cell_type": "code",
   "execution_count": 100,
   "metadata": {},
   "outputs": [],
   "source": [
    "result = forest.predict(test_data_features)\n",
    "output = pd.DataFrame(data={\"id\":test['id'], \"sentiment\":result})"
   ]
  },
  {
   "cell_type": "markdown",
   "metadata": {},
   "source": []
  }
 ],
 "metadata": {
  "kernelspec": {
   "display_name": "Python 3",
   "language": "python",
   "name": "python3"
  },
  "language_info": {
   "codemirror_mode": {
    "name": "ipython",
    "version": 3
   },
   "file_extension": ".py",
   "mimetype": "text/x-python",
   "name": "python",
   "nbconvert_exporter": "python",
   "pygments_lexer": "ipython3",
   "version": "3.6.5"
  }
 },
 "nbformat": 4,
 "nbformat_minor": 2
}
