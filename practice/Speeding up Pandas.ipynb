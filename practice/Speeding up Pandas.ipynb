{
 "cells": [
  {
   "cell_type": "markdown",
   "metadata": {},
   "source": [
    "1. For loop(baseline)\n",
    "2. iterrows - pandas\n",
    "3. apply - pandas\n",
    "4. cut - pandas"
   ]
  },
  {
   "cell_type": "code",
   "execution_count": 14,
   "metadata": {},
   "outputs": [],
   "source": [
    "import seaborn as sns\n",
    "import pandas as pd\n",
    "import numpy as np\n",
    "import time"
   ]
  },
  {
   "cell_type": "code",
   "execution_count": 99,
   "metadata": {},
   "outputs": [],
   "source": [
    "data = sns.load_dataset('iris')\n",
    "\n",
    "def compute_class(petal_length):\n",
    "    if petal_length <= 2:\n",
    "        return 1\n",
    "    elif 2 < petal_length < 5:\n",
    "        return 2\n",
    "    else:\n",
    "        return 3\n",
    "    \n",
    "def get_avg_time(fn, iter=5):\n",
    "    runtime = []\n",
    "    for _ in range(iter):\n",
    "        start = time.time()\n",
    "        classlist = fn()\n",
    "        end = time.time()\n",
    "        \n",
    "        runtime.append(end-start)\n",
    "     \n",
    "    avg_runtime = round(np.mean(runtime), 3)\n",
    "    \n",
    "    print(\"{} average run time over {} iterations = {:.3f}s\".format(fn.__name__, iter, avg_runtime))\n",
    "    \n",
    "    return (avg_runtime, classlist)\n",
    "\n",
    "def get_speedup(baseline, curr):\n",
    "    speedupp = round(baseline/curr, 2)\n",
    "    print(\"Speedup of {:.2f}X\".format(speedupp))\n",
    "    return speedupp\n",
    "\n",
    "result = {'fn':[], 'runtime':[], 'speedup':[]}"
   ]
  },
  {
   "cell_type": "markdown",
   "metadata": {},
   "source": [
    "### 1. For loop"
   ]
  },
  {
   "cell_type": "code",
   "execution_count": 100,
   "metadata": {},
   "outputs": [
    {
     "name": "stdout",
     "output_type": "stream",
     "text": [
      "for_loop average run time over 5 iterations = 0.030s\n"
     ]
    }
   ],
   "source": [
    "def for_loop():\n",
    "    class_list = list()\n",
    "\n",
    "    for i in range(len(data)):\n",
    "        petal_length = data.iloc[i]['petal_length']\n",
    "        class_num = compute_class(petal_length)\n",
    "        class_list.append(class_num)\n",
    "\n",
    "    return class_list\n",
    "\n",
    "result['fn'].append('for_loop')\n",
    "baseline, classlist = get_avg_time(for_loop)\n",
    "\n",
    "result['runtime'].append(baseline)\n",
    "result['speedup'].append(1)"
   ]
  },
  {
   "cell_type": "markdown",
   "metadata": {},
   "source": [
    "### 2. iterrows()"
   ]
  },
  {
   "cell_type": "markdown",
   "metadata": {},
   "source": [
    "The **.iterrows()** function from Pandas implements a generator function internally which will yield a row of the Dataframe on each iteration. More precisely, **.iterrows()** yields pairs (tuples) of **(index, Series)** for each row in the DataFrame. This is effectively the same as using something like **enumerate()** in raw Python but runs much much faster"
   ]
  },
  {
   "cell_type": "code",
   "execution_count": 101,
   "metadata": {},
   "outputs": [
    {
     "name": "stdout",
     "output_type": "stream",
     "text": [
      "iterrows average run time over 5 iterations = 0.014s\n",
      "Speedup of 2.14X\n"
     ]
    }
   ],
   "source": [
    "def iterrows():\n",
    "    class_list = list()\n",
    "\n",
    "    for i, datarow in data.iterrows():\n",
    "        petal_length = datarow['petal_length']\n",
    "        class_num = compute_class(petal_length)\n",
    "        class_list.append(class_num)\n",
    "        \n",
    "    return class_list\n",
    "\n",
    "runtime, classlist2 = get_avg_time(iterrows)\n",
    "assert classlist == classlist2\n",
    "speedup = get_speedup(baseline, runtime)\n",
    "\n",
    "result['fn'].append('iterrows')\n",
    "result['runtime'].append(runtime)\n",
    "result['speedup'].append(speedup)"
   ]
  },
  {
   "cell_type": "markdown",
   "metadata": {},
   "source": [
    "### 3. apply()"
   ]
  },
  {
   "cell_type": "code",
   "execution_count": 102,
   "metadata": {},
   "outputs": [
    {
     "name": "stdout",
     "output_type": "stream",
     "text": [
      "apply average run time over 5 iterations = 0.005s\n",
      "Speedup of 6.00X\n"
     ]
    }
   ],
   "source": [
    "def apply():\n",
    "    class_list = data.apply(lambda row: compute_class(row['petal_length']), axis=1)\n",
    "    return list(class_list)\n",
    "\n",
    "runtime, classlist3 = get_avg_time(apply)\n",
    "assert classlist == classlist3\n",
    "speedup = get_speedup(baseline, runtime)\n",
    "\n",
    "result['fn'].append('apply')\n",
    "result['runtime'].append(runtime)\n",
    "result['speedup'].append(speedup)"
   ]
  },
  {
   "cell_type": "markdown",
   "metadata": {},
   "source": [
    "### 4. cut()"
   ]
  },
  {
   "cell_type": "markdown",
   "metadata": {},
   "source": [
    "The **.cut()** function from Pandas takes as input a set of **bins** which define each range of our If-Else and a set of labels which define which value to return for each range. It then performs the exact same operation we wrote manually with the compute_class() function."
   ]
  },
  {
   "cell_type": "code",
   "execution_count": 103,
   "metadata": {},
   "outputs": [
    {
     "name": "stdout",
     "output_type": "stream",
     "text": [
      "cut average run time over 5 iterations = 0.003s\n",
      "Speedup of 10.00X\n"
     ]
    }
   ],
   "source": [
    "def cut():\n",
    "    class_list = pd.cut(data['petal_length'],\n",
    "                       bins=[0, 2, 5, 100], # if-else condition of compute_class()\n",
    "                       right=False, # exclude upper limit\n",
    "                       include_lowest=True, # include lower limit\n",
    "                       labels=[1, 2, 3]).astype(int)\n",
    "    return list(class_list)\n",
    "\n",
    "runtime, classlist4 = get_avg_time(cut)\n",
    "assert classlist == classlist4\n",
    "speedup = get_speedup(baseline, runtime)\n",
    "\n",
    "result['fn'].append('cut')\n",
    "result['runtime'].append(runtime)\n",
    "result['speedup'].append(speedup)"
   ]
  },
  {
   "cell_type": "code",
   "execution_count": 104,
   "metadata": {},
   "outputs": [
    {
     "data": {
      "text/html": [
       "<div>\n",
       "<style scoped>\n",
       "    .dataframe tbody tr th:only-of-type {\n",
       "        vertical-align: middle;\n",
       "    }\n",
       "\n",
       "    .dataframe tbody tr th {\n",
       "        vertical-align: top;\n",
       "    }\n",
       "\n",
       "    .dataframe thead th {\n",
       "        text-align: right;\n",
       "    }\n",
       "</style>\n",
       "<table border=\"1\" class=\"dataframe\">\n",
       "  <thead>\n",
       "    <tr style=\"text-align: right;\">\n",
       "      <th></th>\n",
       "      <th>fn</th>\n",
       "      <th>runtime</th>\n",
       "      <th>speedup</th>\n",
       "    </tr>\n",
       "  </thead>\n",
       "  <tbody>\n",
       "    <tr>\n",
       "      <th>0</th>\n",
       "      <td>for_loop</td>\n",
       "      <td>0.030</td>\n",
       "      <td>1.00</td>\n",
       "    </tr>\n",
       "    <tr>\n",
       "      <th>1</th>\n",
       "      <td>iterrows</td>\n",
       "      <td>0.014</td>\n",
       "      <td>2.14</td>\n",
       "    </tr>\n",
       "    <tr>\n",
       "      <th>2</th>\n",
       "      <td>apply</td>\n",
       "      <td>0.005</td>\n",
       "      <td>6.00</td>\n",
       "    </tr>\n",
       "    <tr>\n",
       "      <th>3</th>\n",
       "      <td>cut</td>\n",
       "      <td>0.003</td>\n",
       "      <td>10.00</td>\n",
       "    </tr>\n",
       "  </tbody>\n",
       "</table>\n",
       "</div>"
      ],
      "text/plain": [
       "         fn  runtime  speedup\n",
       "0  for_loop    0.030     1.00\n",
       "1  iterrows    0.014     2.14\n",
       "2     apply    0.005     6.00\n",
       "3       cut    0.003    10.00"
      ]
     },
     "execution_count": 104,
     "metadata": {},
     "output_type": "execute_result"
    }
   ],
   "source": [
    "df = pd.DataFrame(result)\n",
    "df.head()"
   ]
  },
  {
   "cell_type": "markdown",
   "metadata": {},
   "source": [
    "<hr>"
   ]
  },
  {
   "cell_type": "markdown",
   "metadata": {},
   "source": []
  }
 ],
 "metadata": {
  "kernelspec": {
   "display_name": "Python 3",
   "language": "python",
   "name": "python3"
  },
  "language_info": {
   "codemirror_mode": {
    "name": "ipython",
    "version": 3
   },
   "file_extension": ".py",
   "mimetype": "text/x-python",
   "name": "python",
   "nbconvert_exporter": "python",
   "pygments_lexer": "ipython3",
   "version": "3.6.5"
  }
 },
 "nbformat": 4,
 "nbformat_minor": 2
}
