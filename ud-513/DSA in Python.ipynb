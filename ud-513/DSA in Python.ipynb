{
 "cells": [
  {
   "cell_type": "markdown",
   "metadata": {},
   "source": [
    "### List-Based Collections"
   ]
  },
  {
   "cell_type": "markdown",
   "metadata": {},
   "source": [
    "1. Collections: \n",
    "    * Are a group of things\n",
    "    * Doesn't have any order\n",
    "    * Items in it doesn't necessarily be of same type\n",
    "    * **All the subsequent data structures are extensions to Collections**\n",
    "2. Lists:\n",
    "    * List items are ordered\n",
    "    * List items can be of different types\n",
    "    * No fixed length, we can keep on adding things to a list \n",
    "    * Insertion can be anywhere(within elements or to the end)\n",
    "    * Exact implementation for adding elements will change based on language\n",
    "    \n",
    "3. Arrays:\n",
    "    * Most common implementation of lists, so they have some inherent order\n",
    "    * In some languages you can have only an array with same types while others allow different types\n",
    "    * They have a set size that we determine while creating them( also depends on programming language )\n",
    "    * **The distinguishing feature of arrays from lists is that each array has a location called index**\n",
    "    * So to access an element in the middle( or for that matter any other index ), an array is a great choice as you only have to know the length of the array( which you set while creating it :) )\n",
    "    * Insertion and deletion can tricky with arrays; inserting in the end is often easy but can be hard if the array runs out of space; for inserting within elements, you have to move all the elements from the position to insert one index right( higher ) taking a linear time( O(n) ) in worst case; deletion carries with it similar caveats\n",
    "    * These can again change with the particular languages implemenation of arrays\n",
    "    \n"
   ]
  },
  {
   "cell_type": "markdown",
   "metadata": {},
   "source": []
  }
 ],
 "metadata": {
  "kernelspec": {
   "display_name": "Python 3",
   "language": "python",
   "name": "python3"
  },
  "language_info": {
   "codemirror_mode": {
    "name": "ipython",
    "version": 3
   },
   "file_extension": ".py",
   "mimetype": "text/x-python",
   "name": "python",
   "nbconvert_exporter": "python",
   "pygments_lexer": "ipython3",
   "version": "3.6.5"
  }
 },
 "nbformat": 4,
 "nbformat_minor": 2
}
