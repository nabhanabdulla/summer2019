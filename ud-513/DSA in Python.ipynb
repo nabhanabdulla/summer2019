{
 "cells": [
  {
   "cell_type": "markdown",
   "metadata": {},
   "source": [
    "### List-Based Collections"
   ]
  },
  {
   "cell_type": "markdown",
   "metadata": {},
   "source": [
    "1. Collections: \n",
    "    * Are a group of things\n",
    "    * Doesn't have any order\n",
    "    * Items in it doesn't necessarily be of same type\n",
    "    * **All the subsequent data structures are extensions to Collections**\n",
    "2. Lists:\n",
    "    * List items are ordered\n",
    "    * List items can be of different types\n",
    "    * No fixed length, we can keep on adding things to a list \n",
    "    * Insertion can be anywhere(within elements or to the end)\n",
    "    * Exact implementation for adding elements will change based on language\n",
    "    \n",
    "3. Arrays:\n",
    "    * Most common implementation of lists, so they have some inherent order\n",
    "    * In some languages you can have only an array with same types while others allow different types\n",
    "    * They have a set size that we determine while creating them( also depends on programming language )\n",
    "    * **The distinguishing feature of arrays from lists is that each array has a location called index**\n",
    "    * So to access an element in the middle( or for that matter any other index ), an array is a great choice as you only have to know the length of the array( which you set while creating it :) )\n",
    "    * Insertion and deletion can tricky with arrays; inserting in the end is often easy but can be hard if the array runs out of space; for inserting within elements, you have to move all the elements from the position to insert one index right( higher ) taking a linear time( O(n) ) in worst case; deletion carries with it similar caveats\n",
    "    * These can again change with the particular languages implemenation of arrays\n",
    "    \n",
    "4. Linked list:\n",
    "    * Is an extension of a list, but definitely not an array(because it doesn't support indexing)\n",
    "    * The items are ordered but there are no indices\n",
    "    * Every element has an idea of what the next element is but knows nothing about where it is in the list or how long the list is.\n",
    "    * Insertion and deletion are so easy compared to that in arrays.\n",
    "\n",
    "5. Stack:\n",
    "    * LIFO (Last In First Out)\n",
    "    * You go on adding elements on top of each other just like we stack items in real life\n",
    "    * Easy to add elements to the top or remove the top element.\n",
    "    * Insert to stack top - Push()     Remove from stack top- Pop()\n",
    "    * Push and pop are constant time( O(1) ) operations as we have to add or remove the top \n",
    "    * As it doesnt restrict how subsequent elements are connected or organised you could implement a stack with other data types, for example a linked list. We can save the first element of the linked list and whenever we have to push an element, we add the element to the front of the linked list ie, change head to the new element.\n",
    "    \n",
    "6. Queue:\n",
    "    * FIFO (First In First Out)\n",
    "    * Similar to real-word queues, people in the front(earliest arrival) are served first. Similarly, removal of elements occur from the front of the queue and insertion happens at the tail\n",
    "    * Insert to queue - Enqueue()  Removal from the queue - Dequeue()\n",
    "    * First element(Oldest) - Head  Last element(most recently queued) - Tail\n",
    "    * Look at the head element - Peek()\n",
    "    "
   ]
  },
  {
   "cell_type": "markdown",
   "metadata": {},
   "source": []
  }
 ],
 "metadata": {
  "kernelspec": {
   "display_name": "Python 3",
   "language": "python",
   "name": "python3"
  },
  "language_info": {
   "codemirror_mode": {
    "name": "ipython",
    "version": 3
   },
   "file_extension": ".py",
   "mimetype": "text/x-python",
   "name": "python",
   "nbconvert_exporter": "python",
   "pygments_lexer": "ipython3",
   "version": "3.7.3"
  }
 },
 "nbformat": 4,
 "nbformat_minor": 2
}
