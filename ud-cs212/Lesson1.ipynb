{
 "cells": [
  {
   "cell_type": "markdown",
   "metadata": {},
   "source": [
    "## Udacity CS212 Design of computer programs"
   ]
  },
  {
   "cell_type": "markdown",
   "metadata": {},
   "source": [
    "### Lesson 1"
   ]
  },
  {
   "cell_type": "markdown",
   "metadata": {},
   "source": [
    "Phases\n",
    "                        1                    2                   3                  4\n",
    "Vague understanding --------- > Problem -----------> Spec ---------------> Code ---------->\n",
    "                    understand           specify             design                test"
   ]
  },
  {
   "cell_type": "markdown",
   "metadata": {},
   "source": [
    "**Writing a poker program**"
   ]
  },
  {
   "cell_type": "raw",
   "metadata": {},
   "source": [
    "1. Understand: Make a list of concepts(or data) that we'll have to deal with\n",
    "\n",
    "                                       -----> Suit\n",
    "   **Hand** of cards -----> **Card** --|\n",
    "                                       -----> Rank"
   ]
  },
  {
   "cell_type": "raw",
   "metadata": {},
   "source": [
    "2. Specify: Get a list of functions we'll have to use\n",
    "    \n",
    "    main functions: poker(hands) -> hand\n",
    "        input: list of hands\n",
    "        output: best hand\n",
    "      \n",
    "    how to select the best hand?\n",
    "        Rank hands\n",
    "    \n",
    "    hand_rank(hand) -> rank\n",
    "         input: a hand of cards\n",
    "         output: rank of the hand"
   ]
  },
  {
   "cell_type": "raw",
   "metadata": {},
   "source": [
    "3. Design: How to represent your data items?\n",
    "    **Hand** and **Card**\n",
    "    \n",
    "    Card --> 'JS' or (11, 'S') # jack of spades\n",
    "    Hand --> [Card1, ..., Card5], set([Card1, ..., Card5]), 'Card1 Card2 ... Card5'\n",
    "    "
   ]
  },
  {
   "cell_type": "markdown",
   "metadata": {},
   "source": [
    "**max** function"
   ]
  },
  {
   "cell_type": "code",
   "execution_count": 2,
   "metadata": {},
   "outputs": [
    {
     "name": "stdout",
     "output_type": "stream",
     "text": [
      "4 -5\n"
     ]
    }
   ],
   "source": [
    "l = [3, 4, -5, 0]\n",
    "print( max(l), max(l, key=abs) )"
   ]
  },
  {
   "cell_type": "markdown",
   "metadata": {},
   "source": [
    "**key=abs** applies built-in abs function to every element and then find max element\n",
    "Nb: max returns the orginal value **-5** and not the key applied value **5**"
   ]
  },
  {
   "cell_type": "code",
   "execution_count": 3,
   "metadata": {},
   "outputs": [],
   "source": [
    "def poker(hands):\n",
    "    \"Return the best hand: poker([hand,...]) => hand\""
   ]
  },
  {
   "cell_type": "code",
   "execution_count": 4,
   "metadata": {},
   "outputs": [],
   "source": [
    "def poker(hands):\n",
    "    \"Return the best hand: poker([hand,...]) => hand\"\n",
    "    return max(hands, key=hand_rank)\n",
    "\n",
    "def hand_rank(hand):\n",
    "    return None # we will be changing this later."
   ]
  },
  {
   "cell_type": "markdown",
   "metadata": {},
   "source": [
    "**Testing**"
   ]
  },
  {
   "cell_type": "markdown",
   "metadata": {},
   "source": [
    "Before moving on to define hand_rank which will be the complex function in this program, we'll be better off thinking about how the functions will be used and writing some testcases.\n",
    "\n",
    "It's important that each part of the specification gets turned into a piece of code that implements it and a test that tests it."
   ]
  },
  {
   "cell_type": "code",
   "execution_count": 5,
   "metadata": {},
   "outputs": [],
   "source": [
    "# Test for the poker function\n",
    "def poker(hands):\n",
    "    \"Return the best hand: poker([hand,...]) => hand\"\n",
    "    return max(hands, key=hand_rank)\n",
    "\n",
    "def test():\n",
    "    \"Test cases for the functions in poker program\"\n",
    "    sf = \"6C 7C 8C 9C TC\".split() # => ['6C', '7C', '8C', '9C', 'TC']\n",
    "    fk = \"9D 9H 9S 9C 7D\".split() \n",
    "    fh = \"TD TC TH 7C 7D\".split()\n",
    "    \n",
    "    # test1 - straight flush > four-of-a-kind > full house\n",
    "    assert poker([sf, fk, fh]) == sf\n",
    "    \n",
    "    # test2 - four of a kind (fk) vs. full house (fh) returns fk\n",
    "    assert poker([fk, fh]) == fk\n",
    "    \n",
    "    # test3 - full house (fh) vs. full house (fh) returns fh\n",
    "    assert poker([fh, fh]) == fh    \n",
    "    \n",
    "    return 'Tests passed'"
   ]
  },
  {
   "cell_type": "markdown",
   "metadata": {},
   "source": [
    "One important principle of testing is to test extreme values eg: test3\n",
    "\n",
    "What if the list passed into **poker** function has only 0, 1, 100 items?\n",
    "    \n",
    "    (Poker isn't played alone, so there's no point passing a list of single element into the function. But as the specification doesn't rule out chances of input list size being 1, we'll have to consider that too)\n",
    "    \n",
    "    The specification doesn't mention what to do if an empty list is passed, but it does specify that the **poker** function returns a **hand**. So we could **return a None** or **raise an error**"
   ]
  },
  {
   "cell_type": "code",
   "execution_count": 7,
   "metadata": {},
   "outputs": [],
   "source": [
    "# Tests for 1 hand and 100 hands\n",
    "def test():\n",
    "    \"Test cases for the functions in poker program\"\n",
    "    sf = \"6C 7C 8C 9C TC\".split() \n",
    "    fk = \"9D 9H 9S 9C 7D\".split() \n",
    "    fh = \"TD TC TH 7C 7D\".split()\n",
    "    \n",
    "    # test4 - 1 hand passed as input\n",
    "    assert poker([fh]) == fh\n",
    "    \n",
    "    list_of_hands = []\n",
    "    len_of_hands = 100\n",
    "    hands_dict = {'sf': sf, 'fk': fk, 'fh':fh}\n",
    "    \n",
    "    check_rank = 0 # check presence of hands in list, 0-fh 1-fk 2-sf\n",
    "    for _ in range(len_of_hands):\n",
    "        hand = random.choice(hands_dict.keys()) # select a random value from 'sf', 'fk' and 'fh'\n",
    "        list_of_hands.append(hands_dict[hand])  # append the corresponding dict value to the list\n",
    "        \n",
    "        if(check_rank < 2):\n",
    "            if(hand == 'fh'):\n",
    "                check_rank = 2\n",
    "            elif(hand == 'fk'):\n",
    "                check_rank = 1\n",
    "    \n",
    "    \n",
    "    assert len(list_of_hands) == len_of_hands # assert the list does have the required no. of hands\n",
    "    \n",
    "    # test5 - n hands passed to the poker function\n",
    "    if(check_rank == 2):\n",
    "        assert poker(list_of_hands) == sf # returns sf if sf in list\n",
    "    elif(check_rank == 1):\n",
    "        assert poker(list_of_hands) == fk # returns fk if fk, fh only in list\n",
    "    else:\n",
    "        assert poker(list_of_hands) == fh # returns fh if only fh in list\n",
    "    \n",
    "    '''\n",
    "    Another version of test4\n",
    "        assert poker([sf] +  99*[fh]]) == sf\n",
    "    '''\n",
    "    return 'tests pass'"
   ]
  },
  {
   "cell_type": "markdown",
   "metadata": {},
   "source": [
    "### The hand_rank function"
   ]
  },
  {
   "cell_type": "markdown",
   "metadata": {},
   "source": [
    "There are 9 ranks from straight flush to high card, 0-8"
   ]
  },
  {
   "cell_type": "code",
   "execution_count": 5,
   "metadata": {},
   "outputs": [],
   "source": [
    "def hand_rank(hand):\n",
    "    \"Return a value indicating the rank of the hand\"\n",
    "    ranks = card_ranks(hand) # returns a list of card numbers in sorted order eg: 10 9 8 7 6\n",
    "    \n",
    "    if straight(ranks) and flush(hand):\n",
    "        '''\n",
    "        if straight can be determined by just looking at the sequence of numbers of the cards(suite isn't required)\n",
    "        To check for a flush we need to know if all the cards are of the same suit => check hand\n",
    "        '''\n",
    "        return 8\n",
    "    elif kind(4, ranks):\n",
    "        return 7\n",
    "    ..."
   ]
  },
  {
   "cell_type": "markdown",
   "metadata": {},
   "source": [
    "This approach provides the correct answer for most of the cases. But consider this case:\n",
    "Person1: 10, 10, 9, 8, 5\n",
    "Person2: 9, 9, 6, 5, 2\n",
    "\n",
    "Here hand_rank() function returns the value 1(pair), but we know that pair of 10s are ranked higher than pair of 9s"
   ]
  },
  {
   "cell_type": "markdown",
   "metadata": {},
   "source": [
    "We need to use more complex alternatives\n",
    "<img src=\"Screenshots/hand-rank-possibility-quiz.jpg\">"
   ]
  },
  {
   "cell_type": "markdown",
   "metadata": {},
   "source": [
    "Here all three will work, but the best solution will be to use **tuples** as we can easily get the contents. With **int** and **real**, we'll have to use further processing to extract the numbers"
   ]
  },
  {
   "cell_type": "code",
   "execution_count": 1,
   "metadata": {},
   "outputs": [
    {
     "data": {
      "text/plain": [
       "True"
      ]
     },
     "execution_count": 1,
     "metadata": {},
     "output_type": "execute_result"
    }
   ],
   "source": [
    "(7, 9, 5) > (7, 3, 2)"
   ]
  },
  {
   "cell_type": "markdown",
   "metadata": {},
   "source": [
    "Ranking cards\n",
    "<img src=\"Screenshots/Screenshot (715).png\">\n",
    "<img src=\"Screenshots/Screenshot (716).png\">\n",
    "\n",
    "<p style=\"text-align:center;font-weight:bolder\">(8, 11) > (7, 14, 2) Lexicographic ordering</p>"
   ]
  },
  {
   "cell_type": "code",
   "execution_count": 6,
   "metadata": {},
   "outputs": [],
   "source": [
    "def hand_rank(hand):\n",
    "    \"Return a value indicating the rank of the hand\"\n",
    "    ranks = card_ranks(hand) # returns a list of card numbers in sorted order eg: 10 9 8 7 6 \n",
    "    \n",
    "    if straight(ranks) and flush(hand):\n",
    "        return (8, max(ranks)) # 2 3 4 5 6 (8, 6)  6 7 8 9 T (8, 10)\n",
    "    elif kind(4, ranks):\n",
    "        return (7, kind(4, ranks), kind(1, ranks)) # 9 9 9 9 3 (7, 9, 3)\n",
    "        # kind(n, ranks) returns the value that repeats n times kind(4, [10, 10, 10, 10, 2]) => 10\n",
    "    ...\n",
    "    "
   ]
  },
  {
   "cell_type": "code",
   "execution_count": 3,
   "metadata": {},
   "outputs": [],
   "source": [
    "def test():\n",
    "    \"Test cases for the functions in poker program\"\n",
    "    sf = \"6C 7C 8C 9C TC\".split() # Straight Flush\n",
    "    fk = \"9D 9H 9S 9C 7D\".split() # Four of a Kind\n",
    "    fh = \"TD TC TH 7C 7D\".split() # Full House\n",
    "    assert poker([sf, fk, fh]) == sf\n",
    "    assert poker([fk, fh]) == fk\n",
    "    assert poker([fh, fh]) == fh\n",
    "    assert poker([sf]) == sf\n",
    "    assert poker([sf] + 99*[fh]) == sf\n",
    " \n",
    "    assert hand_rank(sf) == (8, 10)\n",
    "    assert hand_rank(fk) == (7, 9, 7)\n",
    "    assert hand_rank(fh) == (6, 10, 7)"
   ]
  },
  {
   "cell_type": "code",
   "execution_count": 10,
   "metadata": {},
   "outputs": [],
   "source": [
    "def hand_rank(hand):\n",
    "    ranks = card_ranks(hand)\n",
    "    \n",
    "    if straight(ranks) and flush(hand):            # straight flush\n",
    "        return (8, max(ranks))\n",
    "    elif kind(4, ranks):                           # 4 of a kind\n",
    "        return (7, kind(4, ranks), kind(1, ranks))\n",
    "    elif kind(3, ranks) and kind(2, ranks):        # full house\n",
    "        return (6, kind(3, ranks), kind(2, ranks))\n",
    "    elif flush(hand):                              # flush\n",
    "        return (5, ranks)\n",
    "    elif straight(ranks):                          # straight\n",
    "        return (4, max(ranks))\n",
    "    elif kind(3, ranks):                           # 3 of a kind\n",
    "        return (3, kind(3, ranks), ranks)\n",
    "    elif two_pair(ranks):                          # 2 pair\n",
    "        return (2, two_pair(2, ranks), ranks)\n",
    "    elif kind(2, ranks):                           # kind\n",
    "        return (1, kind(2, ranks), ranks)\n",
    "    else:                                          # high card\n",
    "        return (0, ranks)"
   ]
  },
  {
   "cell_type": "code",
   "execution_count": 9,
   "metadata": {},
   "outputs": [],
   "source": [
    "def test():\n",
    "    \"Test cases for the functions in poker program\"\n",
    "    sf = \"6C 7C 8C 9C TC\".split() # Straight Flush\n",
    "    fk = \"9D 9H 9S 9C 7D\".split() # Four of a Kind\n",
    "    fh = \"TD TC TH 7C 7D\".split() # Full House\n",
    "    assert card_ranks(sf) == [10, 9, 8, 7, 6]\n",
    "    assert card_ranks(fk) == [9, 9, 9, 9, 7]\n",
    "    assert card_ranks(fh) == [10, 10, 10, 7, 7]\n",
    "    \n",
    "    assert poker([sf, fk, fh]) == sf\n",
    "    assert poker([fk, fh]) == fk\n",
    "    assert poker([fh, fh]) == fh\n",
    "    assert poker([sf]) == sf\n",
    "    assert poker([sf] + 99*[fh]) == sf\n",
    "    \n",
    "    assert hand_rank(sf) == (8, 10)\n",
    "    assert hand_rank(fk) == (7, 9, 7)\n",
    "    assert hand_rank(fh) == (6, 10, 7)\n",
    "    return 'tests pass'"
   ]
  },
  {
   "cell_type": "markdown",
   "metadata": {},
   "source": [
    "#### card_ranks functions\n",
    "\n",
    "Input: a hand of cards\n",
    "\n",
    "Output: sorted list of card ranks"
   ]
  },
  {
   "cell_type": "code",
   "execution_count": 12,
   "metadata": {},
   "outputs": [
    {
     "name": "stdout",
     "output_type": "stream",
     "text": [
      "['K', 'A', '4', '3']\n"
     ]
    }
   ],
   "source": [
    "def card_ranks(cards):\n",
    "    \"Return a list of the ranks, sorted with higher first.\"\n",
    "    ranks = [r for r,s in cards]\n",
    "    ranks.sort(reverse=True)\n",
    "    return ranks\n",
    "\n",
    "print(card_ranks(['AC', '3D', '4S', 'KH'])) #should output [14, 13, 4, 3]"
   ]
  },
  {
   "cell_type": "markdown",
   "metadata": {},
   "source": [
    "But **A** is of higher rank than **K** and we need to print out numbers"
   ]
  },
  {
   "cell_type": "code",
   "execution_count": 16,
   "metadata": {},
   "outputs": [
    {
     "name": "stdout",
     "output_type": "stream",
     "text": [
      "[14, 13, 4, 3]\n"
     ]
    }
   ],
   "source": [
    "def card_ranks(cards):\n",
    "    \"Return a list of the ranks, sorted with higher first.\"\n",
    "    ranks_dict = {}\n",
    "    for i in range(2, 9):\n",
    "        ranks_dict[str(i)] = i\n",
    "    i = 10\n",
    "    for j in ['T', 'J', 'Q', 'K', 'A']:\n",
    "        ranks_dict[j] = i\n",
    "        i += 1\n",
    "    \n",
    "    ranks = [ranks_dict[r] for r,s in cards] # index function returns the index of the element in the list\n",
    "    ranks.sort(reverse=True)\n",
    "    return ranks\n",
    "\n",
    "print(card_ranks(['AC', '3D', '4S', 'KH'])) #should output [14, 13, 4, 3]"
   ]
  },
  {
   "cell_type": "markdown",
   "metadata": {},
   "source": [
    "**OR**"
   ]
  },
  {
   "cell_type": "code",
   "execution_count": 17,
   "metadata": {},
   "outputs": [
    {
     "name": "stdout",
     "output_type": "stream",
     "text": [
      "[14, 13, 4, 3]\n"
     ]
    }
   ],
   "source": [
    "def card_ranks(cards):\n",
    "    \"Return a list of the ranks, sorted with higher first.\"    \n",
    "    ranks = ['--23456789TJQKA'.index(r) for r,s in cards] # index function returns the index of the element in the list\n",
    "    ranks.sort(reverse=True)\n",
    "    return ranks\n",
    "\n",
    "print(card_ranks(['AC', '3D', '4S', 'KH'])) #should output [14, 13, 4, 3]"
   ]
  },
  {
   "cell_type": "markdown",
   "metadata": {},
   "source": [
    "**It's better to first write tests before writing the functions**"
   ]
  },
  {
   "cell_type": "code",
   "execution_count": 20,
   "metadata": {},
   "outputs": [
    {
     "name": "stdout",
     "output_type": "stream",
     "text": [
      "tests pass\n"
     ]
    }
   ],
   "source": [
    "def test():\n",
    "    \"Test cases for the functions in poker program.\"\n",
    "    sf = \"6C 7C 8C 9C TC\".split()\n",
    "    fk = \"9D 9H 9S 9C 7D\".split()\n",
    "    fh = \"TD TC TH 7C 7D\".split()\n",
    "    assert straight([9, 8, 7, 6, 5]) == True\n",
    "    assert straight([9, 8, 8, 6, 5]) == False\n",
    "    assert flush(sf) == True\n",
    "    assert flush(fk) == False\n",
    "    return 'tests pass'\n",
    "\n",
    "def straight(ranks):\n",
    "    \"Return True if the ordered ranks form a 5-card straight.\"\n",
    "    for i in range(len(ranks)-1):\n",
    "        if (ranks[i] - ranks[i+1]) != 1:\n",
    "            return False\n",
    "    return True\n",
    "'''\n",
    "def straight(ranks):\n",
    "    \"Return True if the ordered ranks form a 5-card straight.\"\n",
    "    return (max(ranks) - min(ranks) == 4) and (len(set(ranks)) == 5)\n",
    "\n",
    "'''\n",
    "def flush(hand):\n",
    "    \"Return True if all the cards have the same suit.\"\n",
    "    # Your code here.\n",
    "    suits = set([s for r, s in hand])\n",
    "    return len(suits) == 1\n",
    "\n",
    "print(test())"
   ]
  },
  {
   "cell_type": "code",
   "execution_count": 26,
   "metadata": {},
   "outputs": [
    {
     "name": "stdout",
     "output_type": "stream",
     "text": [
      "tests pass\n"
     ]
    }
   ],
   "source": [
    "def test():\n",
    "    \"Test cases for the functions in poker program.\"\n",
    "    sf = \"6C 7C 8C 9C TC\".split() # Straight Flush\n",
    "    fk = \"9D 9H 9S 9C 7D\".split() # Four of a Kind\n",
    "    fh = \"TD TC TH 7C 7D\".split() # Full House\n",
    "    tp = \"5S 5D 9H 9C 6S\".split() # Two pairs\n",
    "    fkranks = card_ranks(fk)\n",
    "    tpranks = card_ranks(tp)\n",
    "\n",
    "    assert kind(4, fkranks) == 9\n",
    "    assert kind(3, fkranks) == None\n",
    "    assert kind(2, fkranks) == None\n",
    "    assert kind(1, fkranks) == 7\n",
    "    return 'tests pass'\n",
    "\n",
    "def kind(n, ranks):\n",
    "    \"\"\"Return the first rank that this hand has exactly n of.\n",
    "    Return None if there is no n-of-a-kind in the hand.\"\"\"\n",
    "    for r in ranks:\n",
    "        if ranks.count(r) == n:\n",
    "            return r\n",
    "    return None\n",
    "print(test())"
   ]
  },
  {
   "cell_type": "markdown",
   "metadata": {},
   "source": []
  }
 ],
 "metadata": {
  "kernelspec": {
   "display_name": "Python 3",
   "language": "python",
   "name": "python3"
  },
  "language_info": {
   "codemirror_mode": {
    "name": "ipython",
    "version": 3
   },
   "file_extension": ".py",
   "mimetype": "text/x-python",
   "name": "python",
   "nbconvert_exporter": "python",
   "pygments_lexer": "ipython3",
   "version": "3.6.5"
  }
 },
 "nbformat": 4,
 "nbformat_minor": 2
}
