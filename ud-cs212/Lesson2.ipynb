{
 "cells": [
  {
   "cell_type": "markdown",
   "metadata": {},
   "source": [
    "## Udacity CS212 Design of computer programs"
   ]
  },
  {
   "cell_type": "markdown",
   "metadata": {},
   "source": [
    "### Zebra Puzzle\n",
    "\n",
    "1. There are five houses.\n",
    "\n",
    "2. The Englishman lives in the red house.\n",
    "\n",
    "3. The Spaniard owns the dog.\n",
    "\n",
    "4. Coffee is drunk in the green house.\n",
    "\n",
    "5. The Ukrainian drinks tea.\n",
    "\n",
    "6. The green house is immediately to the right of the ivory house.\n",
    "\n",
    "7. The Old Gold smoker owns snails.\n",
    "\n",
    "8. Kools are smoked in the yellow house.\n",
    "\n",
    "9. Milk is drunk in the middle house.\n",
    "\n",
    "10. The Norwegian lives in the first house.\n",
    "\n",
    "11. The man who smokes Chesterfields lives in the house next to the man with the fox.\n",
    "\n",
    "12. Kools are smoked in a house next to the house where the horse is kept.\n",
    "\n",
    "13. The Lucky Strike smoker drinks orange juice.\n",
    "\n",
    "14. The Japanese smokes Parliaments.\n",
    "\n",
    "15. The Norwegian lives next to the blue house.\n",
    "\n",
    "Who drinks water? Who owns the zebra?\n",
    "\n",
    "Each house is painted a different color, and their inhabitants are of different nationalities, own different pets, drink different beverages and smoke different brands of American cigarettes."
   ]
  },
  {
   "cell_type": "markdown",
   "metadata": {},
   "source": [
    "The **properties** we need to take into account are:\n",
    "1. Color\n",
    "2. Nationality\n",
    "3. Pet\n",
    "4. Drinks\n",
    "5. Smokes"
   ]
  },
  {
   "cell_type": "markdown",
   "metadata": {},
   "source": [
    "For each of the property we have **5!** ways of assigning the property to 5 houses and hence $5!^5$ choices for assigning 5 properties to the 5 houses"
   ]
  },
  {
   "cell_type": "markdown",
   "metadata": {},
   "source": [
    "5! = 120 > 100\n",
    "\n",
    "$5!^5$ > ${10^2}^5$\n",
    "\n",
    "$5!^5$ > $10^{10}$ **1 Billion = $10^9$ **\n",
    "\n",
    "Modern computers can compute around a billion instructions per second"
   ]
  },
  {
   "cell_type": "markdown",
   "metadata": {},
   "source": [
    "**Feasible solution?**\n",
    "<img src=\"Screenshots/Screenshot (723).png\" width=\"480px\">"
   ]
  },
  {
   "cell_type": "markdown",
   "metadata": {},
   "source": [
    "We can get around with instructions in billions but trillions isn't gonna happen"
   ]
  },
  {
   "cell_type": "markdown",
   "metadata": {},
   "source": [
    "<hr>"
   ]
  },
  {
   "cell_type": "markdown",
   "metadata": {},
   "source": [
    "**Estimating runtime**\n",
    "\n",
    "<img src=\"Screenshots/l2_estimating_runtime.jpg\" width=\"640px\">"
   ]
  },
  {
   "cell_type": "markdown",
   "metadata": {},
   "source": [
    "Now as we found earlier there are almost 20 billion possibilites to check. If we have a 2.4GHz computer, that's around 10s if each possibility was an instruction. But the above code will most likely be mapped to around a 1000 instructions ie, around 2-3 hours."
   ]
  },
  {
   "cell_type": "markdown",
   "metadata": {},
   "source": [
    "<hr>"
   ]
  },
  {
   "cell_type": "markdown",
   "metadata": {},
   "source": [
    "**Neighbors**"
   ]
  },
  {
   "cell_type": "code",
   "execution_count": 71,
   "metadata": {},
   "outputs": [],
   "source": [
    "import itertools\n",
    "\n",
    "houses = [1, 2, 3, 4, 5]\n",
    "orderings = list(itertools.permutations(houses))\n",
    "\n",
    "def imright(h1, h2):\n",
    "    \"House h1 is immediately right of h2 if h1-h2 == 1.\"\n",
    "    return h1-h2 == 1\n",
    "\n",
    "def nextto(h1, h2):\n",
    "    \"Two houses are next to each other if they differ by 1.\"\n",
    "    return abs(h1-h2) == 1"
   ]
  },
  {
   "cell_type": "markdown",
   "metadata": {},
   "source": [
    "**Slow solution**"
   ]
  },
  {
   "cell_type": "code",
   "execution_count": 72,
   "metadata": {},
   "outputs": [],
   "source": [
    "from tqdm import tqdm\n",
    "\n",
    "def zebra_puzzle():\n",
    "    \"Return a tuple (WATER, ZEBRA) indicating their house numbers.\"\n",
    "    houses = first, _, middle, _, _ = [1, 2, 3, 4, 5]\n",
    "    orderings = list(itertools.permutations(houses)) #1\n",
    "    return next((WATER, ZEBRA)\n",
    "                for (red, green, ivory, yellow, blue) in tqdm(orderings)\n",
    "                for (Englishman, Spaniard, Ukranian, Japanese, Norwegian) in orderings\n",
    "                for (dog, snails, fox, horse, ZEBRA) in orderings\n",
    "                for (coffee, tea, milk, oj, WATER) in orderings\n",
    "                for (OldGold, Kools, Chesterfields, LuckyStrike, Parliaments) in orderings\n",
    "                if Englishman is red #2\n",
    "                if Spaniard is dog #3\n",
    "                if coffee is green #4\n",
    "                if Ukranian is tea #5\n",
    "                if imright(green, ivory) #6\n",
    "                if OldGold is snails #7\n",
    "                if Kools is yellow #8\n",
    "                if Milk is middle #9\n",
    "                if Norwegian is first #10\n",
    "                if nextto(Chesterfields, fox)\n",
    "                if nextto(Kools, horse)\n",
    "                if LuckyStrike is oj\n",
    "                if Japanese is Parliaments\n",
    "                if nextto(Norwegian, blue)              \n",
    "               )"
   ]
  },
  {
   "cell_type": "code",
   "execution_count": 73,
   "metadata": {},
   "outputs": [],
   "source": [
    "# %timeit zebra_puzzle()"
   ]
  },
  {
   "cell_type": "markdown",
   "metadata": {},
   "source": [
    "<hr>"
   ]
  },
  {
   "cell_type": "markdown",
   "metadata": {},
   "source": [
    "**List Comprehensions**"
   ]
  },
  {
   "cell_type": "raw",
   "metadata": {},
   "source": [
    "[ s for r, s in cards \n",
    "        if r in 'JQK\n",
    "    for ..... \n",
    "        if ...\n",
    "    for ....\n",
    "        if ...]\n",
    "        \n",
    "result = [ s for r, s in cards if r in 'JQK]\n",
    "\n",
    "is equivalent to \n",
    "\n",
    "result = []\n",
    "for r, s in cards:\n",
    "    if r in 'JQK':\n",
    "        result.append(r)"
   ]
  },
  {
   "cell_type": "markdown",
   "metadata": {},
   "source": [
    "**Generator Expressions**"
   ]
  },
  {
   "cell_type": "raw",
   "metadata": {},
   "source": [
    "g = ( s for r, s in cards \n",
    "        if r in 'JQK\n",
    "    for ..... \n",
    "        if ...\n",
    "    for ....\n",
    "        if ...)\n",
    "        "
   ]
  },
  {
   "cell_type": "markdown",
   "metadata": {},
   "source": [
    "The difference being that the generator expression doesn't do all the computation at once. It returns you a **promise** to do the calculation later. \n",
    "\n",
    "> **next(g)** is used to do the next computation and returns the first **s**"
   ]
  },
  {
   "cell_type": "code",
   "execution_count": 74,
   "metadata": {},
   "outputs": [],
   "source": [
    "def sq(x): print('sq called', x); return x*x\n",
    "\n",
    "g = (sq(x) for x in range(10) if x%2 == 0)"
   ]
  },
  {
   "cell_type": "markdown",
   "metadata": {},
   "source": [
    "See nothing gets printed as all the generator expression does is return a generator object"
   ]
  },
  {
   "cell_type": "markdown",
   "metadata": {},
   "source": [
    "<img src=\"Screenshots/Screenshot (724).png\" width=\"640px\">"
   ]
  },
  {
   "cell_type": "markdown",
   "metadata": {},
   "source": [
    "At the end, Python raises the **StopIteration** condition. Workaround?"
   ]
  },
  {
   "cell_type": "code",
   "execution_count": 75,
   "metadata": {},
   "outputs": [
    {
     "name": "stdout",
     "output_type": "stream",
     "text": [
      "sq called 0\n",
      "sq called 2\n",
      "sq called 4\n",
      "sq called 6\n",
      "sq called 8\n"
     ]
    }
   ],
   "source": [
    "for x2 in (sq(x) for x in range(10) if x%2==0): pass"
   ]
  },
  {
   "cell_type": "code",
   "execution_count": 76,
   "metadata": {},
   "outputs": [
    {
     "name": "stdout",
     "output_type": "stream",
     "text": [
      "sq called 0\n",
      "sq called 2\n",
      "sq called 4\n",
      "sq called 6\n",
      "sq called 8\n"
     ]
    },
    {
     "data": {
      "text/plain": [
       "[0, 4, 16, 36, 64]"
      ]
     },
     "execution_count": 76,
     "metadata": {},
     "output_type": "execute_result"
    }
   ],
   "source": [
    "list((sq(x) for x in range(10) if x%2==0))"
   ]
  },
  {
   "cell_type": "markdown",
   "metadata": {},
   "source": [
    "<hr>"
   ]
  },
  {
   "cell_type": "code",
   "execution_count": 77,
   "metadata": {},
   "outputs": [],
   "source": [
    "def zebra_puzzle():\n",
    "    \"Return a tuple (WATER, ZEBRA) indicating their house numbers.\"\n",
    "    houses = first, _, middle, _, _ = [1, 2, 3, 4, 5]\n",
    "    orderings = list(itertools.permutations(houses)) #1\n",
    "    return next((WATER, ZEBRA)\n",
    "                for (red, green, ivory, yellow, blue) in tqdm(orderings)\n",
    "                for (Englishman, Spaniard, Ukranian, Japanese, Norwegian) in orderings\n",
    "                for (dog, snails, fox, horse, ZEBRA) in orderings\n",
    "                for (coffee, tea, milk, oj, WATER) in orderings\n",
    "                for (OldGold, Kools, Chesterfields, LuckyStrike, Parliaments) in orderings\n",
    "                if Englishman is red #2\n",
    "                if Spaniard is dog #3\n",
    "                if coffee is green #4\n",
    "                if Ukranian is tea #5\n",
    "                if imright(green, ivory) #6\n",
    "                if OldGold is snails #7\n",
    "                if Kools is yellow #8\n",
    "                if Milk is middle #9\n",
    "                if Norwegian is first #10\n",
    "                if nextto(Chesterfields, fox) #11\n",
    "                if nextto(Kools, horse) #12\n",
    "                if LuckyStrike is oj #13\n",
    "                if Japanese is Parliaments #14\n",
    "                if nextto(Norwegian, blue) #15         \n",
    "               )"
   ]
  },
  {
   "cell_type": "markdown",
   "metadata": {},
   "source": [
    "In the above implementation we're going through all the $5!^5$ possibilities but we don't necessarily have to do that. \n",
    "\n",
    "For example, if the Englishman is not red, we can **continue** with the for loop without going to the lower 3 for loops as we know that the first if condition's going to return False anyhow"
   ]
  },
  {
   "cell_type": "code",
   "execution_count": 78,
   "metadata": {},
   "outputs": [
    {
     "name": "stdout",
     "output_type": "stream",
     "text": [
      "0.0ms (1, 5)\n"
     ]
    }
   ],
   "source": [
    "def zebra_puzzle():\n",
    "    \"Return a tuple (WATER, ZEBRA) indicating their house numbers.\"\n",
    "    houses = first, _, middle, _, _ = [1, 2, 3, 4, 5]\n",
    "    orderings = list(itertools.permutations(houses)) #1\n",
    "    return next((WATER, ZEBRA)\n",
    "                for (red, green, ivory, yellow, blue) in orderings\n",
    "                if imright(green, ivory) #6\n",
    "                for (Englishman, Spaniard, Ukranian, Japanese, Norwegian) in orderings\n",
    "                if Englishman is red #2\n",
    "                if Norwegian is first #10\n",
    "                if nextto(Norwegian, blue)  #15            \n",
    "                for (dog, snails, fox, horse, ZEBRA) in orderings\n",
    "                if Spaniard is dog #3\n",
    "                for (coffee, tea, milk, oj, WATER) in orderings\n",
    "                if coffee is green #4\n",
    "                if Ukranian is tea #5\n",
    "                if milk is middle #9\n",
    "                for (OldGold, Kools, Chesterfields, LuckyStrike, Parliaments) in orderings \n",
    "                if OldGold is snails #7\n",
    "                if Kools is yellow #8\n",
    "                if nextto(Chesterfields, fox) #11\n",
    "                if nextto(Kools, horse) #12\n",
    "                if LuckyStrike is oj #13\n",
    "                if Japanese is Parliaments #14\n",
    "                )\n",
    "\n",
    "import time\n",
    "\n",
    "def timedcall(fn, *args):\n",
    "    start = time.time()\n",
    "    result = fn(*args)\n",
    "    end = time.time()\n",
    "    \n",
    "    return end-start, result\n",
    "\n",
    "runtime, result = timedcall(zebra_puzzle)\n",
    "print(str(runtime*1000) + 'ms', result)"
   ]
  },
  {
   "cell_type": "raw",
   "metadata": {},
   "source": [
    "def callfn(fn,*args):\n",
    "    fn(*args)\n",
    "    \n",
    "allows callfn to take in as its arguments a fn and an arbitrary number of arguments as a tuple\n",
    "\n",
    "callfn(f, 1, 2, 3) => *args = (1, 2, 3) and calls f(1, 2, 3)"
   ]
  },
  {
   "cell_type": "markdown",
   "metadata": {},
   "source": [
    "<hr>"
   ]
  },
  {
   "cell_type": "code",
   "execution_count": 79,
   "metadata": {},
   "outputs": [],
   "source": [
    "# Modify the timedcalls(n, fn, *args) function so that it calls \n",
    "# fn(*args) repeatedly. It should call fn n times if n is an integer\n",
    "# and up to n seconds if n is a floating point number.\n",
    "def average(numbers):\n",
    "    \"Return the average (arithmetic mean) of a sequence of numbers.\"\n",
    "    return sum(numbers) / float(len(numbers)) \n",
    "\n",
    "def timedcalls(n, fn, *args):\n",
    "    \"\"\"Call fn(*args) repeatedly: n times if n is an int, or up to\n",
    "    n seconds if n is a float; return the min, avg, and max time\"\"\"\n",
    "    # Your code here.\n",
    "    if isinstance(n, int):\n",
    "        times = [timedcall(fn, *args)[0] for _ in range(n)]\n",
    "    else:\n",
    "        times = []\n",
    "        while(sum(times) < n):\n",
    "            times.append(timedcall(fn, *args)[0])\n",
    "        \n",
    "        \n",
    "    return min(times), average(times), max(times)\n"
   ]
  },
  {
   "cell_type": "markdown",
   "metadata": {},
   "source": [
    "Now we have a good idea about the time the function takes, but what about the number of statements it executes?"
   ]
  },
  {
   "cell_type": "code",
   "execution_count": 80,
   "metadata": {},
   "outputs": [],
   "source": [
    "def get_num_statements():\n",
    "    count = 0\n",
    "    for (red, green, ivory, yellow, blue) in orderings:\n",
    "        count += 1\n",
    "        for (Englishman, Spaniard, Ukranian, Japanese, Norwegian) in orderings:\n",
    "            count += 1\n",
    "            for (dog, snails, fox, horse, ZEBRA) in orderings:\n",
    "                count += 1\n",
    "                for (coffee, tea, milk, oj, WATER) in orderings:\n",
    "                    count += 1\n",
    "                    for (OldGold, Kools, Chesterfields, LuckyStrike, Parliaments) in orderings:\n",
    "                        count += 1"
   ]
  },
  {
   "cell_type": "markdown",
   "metadata": {},
   "source": [
    "While designing programs it is of best practice to separate out code for **correctness**, **efficiency** and **debugging**."
   ]
  },
  {
   "cell_type": "code",
   "execution_count": 81,
   "metadata": {},
   "outputs": [],
   "source": [
    "def zebra_puzzle():\n",
    "    \"Return a tuple (WATER, ZEBRA) indicating their house numbers.\"\n",
    "    houses = first, _, middle, _, _ = [1, 2, 3, 4, 5]\n",
    "    orderings = list(itertools.permutations(houses)) #1\n",
    "    return next((WATER, ZEBRA)\n",
    "                for (red, green, ivory, yellow, blue) in c(orderings)\n",
    "                if imright(green, ivory) #6\n",
    "                for (Englishman, Spaniard, Ukranian, Japanese, Norwegian) in c(orderings)\n",
    "                if Englishman is red #2\n",
    "                if Norwegian is first #10\n",
    "                if nextto(Norwegian, blue)  #15            \n",
    "                for (dog, snails, fox, horse, ZEBRA) in c(orderings)\n",
    "                if Spaniard is dog #3\n",
    "                for (coffee, tea, milk, oj, WATER) in c(orderings)\n",
    "                if coffee is green #4\n",
    "                if Ukranian is tea #5\n",
    "                if milk is middle #9\n",
    "                for (OldGold, Kools, Chesterfields, LuckyStrike, Parliaments) in c(orderings)\n",
    "                if OldGold is snails #7\n",
    "                if Kools is yellow #8\n",
    "                if nextto(Chesterfields, fox) #11\n",
    "                if nextto(Kools, horse) #12\n",
    "                if LuckyStrike is oj #13\n",
    "                if Japanese is Parliaments #14\n",
    "                )"
   ]
  },
  {
   "cell_type": "markdown",
   "metadata": {},
   "source": [
    "We introduce a function **c** which takes the count of number of statements executed. Although we're counting only the number of iterations of the **for** loop, it's essentially close to the total number of statements executed."
   ]
  },
  {
   "cell_type": "code",
   "execution_count": 82,
   "metadata": {},
   "outputs": [],
   "source": [
    "def c(sequence):\n",
    "    '''Generate items in the sequence; while doing so it keeps count. c.starts is the number of sequences started,\n",
    "    c.items is the number of items generated'''\n",
    "    c.starts += 1\n",
    "    for item in sequence:\n",
    "        c.items += 1\n",
    "        yield item\n",
    "\n",
    "def instrument_fn(fn, *args):\n",
    "    '''This function prints out the number of iterations we went over each item. '''\n",
    "    c.starts, c.items = 0, 0\n",
    "    result = fn(*args)\n",
    "    print('{} got {} with {} iters over {} items '.format(fn.__name__, result, c.starts, c.items))"
   ]
  },
  {
   "cell_type": "code",
   "execution_count": 83,
   "metadata": {},
   "outputs": [
    {
     "name": "stdout",
     "output_type": "stream",
     "text": [
      "zebra_puzzle got (1, 5) with 152 iters over 18015 items \n"
     ]
    }
   ],
   "source": [
    "instrument_fn(zebra_puzzle)"
   ]
  },
  {
   "cell_type": "markdown",
   "metadata": {},
   "source": [
    "<hr>"
   ]
  },
  {
   "cell_type": "markdown",
   "metadata": {},
   "source": [
    "**Generator Function**"
   ]
  },
  {
   "cell_type": "code",
   "execution_count": 84,
   "metadata": {},
   "outputs": [],
   "source": [
    "def ints(start, end):\n",
    "    '''yields integers within a range, both inclusive'''\n",
    "    i = start\n",
    "    while i <= end:\n",
    "        yield i\n",
    "        i += 1\n",
    "\n",
    "def yield_ntimes(fn, n, *args):\n",
    "    '''For going over generator functions n times'''\n",
    "    gen = fn(*args)\n",
    "    for _ in range(n):\n",
    "        try:\n",
    "            print(next(gen), end=' ')\n",
    "        except StopIteration:\n",
    "            pass\n",
    "    print()"
   ]
  },
  {
   "cell_type": "code",
   "execution_count": 85,
   "metadata": {},
   "outputs": [
    {
     "name": "stdout",
     "output_type": "stream",
     "text": [
      "1 2 3 4 5 6 7 8 9 10 \n",
      "1 2 3 4 5 \n"
     ]
    }
   ],
   "source": [
    "yield_ntimes(ints, 10, 1, 100) # start=1, end=100\n",
    "yield_ntimes(ints, 10, 1, 5) # start=1, end=100"
   ]
  },
  {
   "cell_type": "markdown",
   "metadata": {},
   "source": [
    "This also opens up the possibility for open ended ranges"
   ]
  },
  {
   "cell_type": "code",
   "execution_count": 86,
   "metadata": {},
   "outputs": [],
   "source": [
    "def ints(start, end=None):\n",
    "    i = start\n",
    "    while end == None or i <= end:\n",
    "        yield i\n",
    "        i += 1"
   ]
  },
  {
   "cell_type": "markdown",
   "metadata": {},
   "source": [
    "Now **ints(1)** will go on yielding integers from 1"
   ]
  },
  {
   "cell_type": "markdown",
   "metadata": {},
   "source": [
    "To print out all the integers 0, +1, -1, +2, -2, ..."
   ]
  },
  {
   "cell_type": "code",
   "execution_count": 87,
   "metadata": {},
   "outputs": [],
   "source": [
    "def all_ints():\n",
    "    yield 0\n",
    "    for i in ints(1):\n",
    "        yield i\n",
    "        yield -i"
   ]
  },
  {
   "cell_type": "code",
   "execution_count": 88,
   "metadata": {},
   "outputs": [
    {
     "name": "stdout",
     "output_type": "stream",
     "text": [
      "0 1 -1 2 -2 3 -3 4 -4 5 -5 6 -6 7 -7 8 -8 9 -9 10 \n"
     ]
    }
   ],
   "source": [
    "yield_ntimes(all_ints, 20)"
   ]
  },
  {
   "cell_type": "markdown",
   "metadata": {},
   "source": [
    "<hr>"
   ]
  },
  {
   "cell_type": "markdown",
   "metadata": {},
   "source": [
    "**For loops** in python"
   ]
  },
  {
   "cell_type": "raw",
   "metadata": {},
   "source": [
    "for x in items:\n",
    "    print(x)"
   ]
  },
  {
   "cell_type": "raw",
   "metadata": {},
   "source": [
    "Now we may think that the implementation of for loop goes something like this:\n",
    "    i = 0\n",
    "    while(i <= len(items)):\n",
    "        x = items[i]\n",
    "        print(x)\n",
    "        \n",
    "But Python allows for iterating over much more than just lists ie, over **iterables**\n",
    "\n",
    "The implementation of for loop in Python is:\n",
    "    it = iter(items) # an iterable instance is created from items\n",
    "    try:\n",
    "        while(True):\n",
    "            x = next(it)\n",
    "            print(x)\n",
    "    except StopIteration:\n",
    "        pass"
   ]
  },
  {
   "cell_type": "markdown",
   "metadata": {},
   "source": [
    "<hr>"
   ]
  },
  {
   "cell_type": "markdown",
   "metadata": {},
   "source": [
    "From our design of the **zebra puzzle** program, the general steps involved are:\n",
    "\n",
    "1. Concepts inventory\n",
    "2. Refine ideas\n",
    "3. Simple implementation\n",
    "4. Back envelope(check complexity)\n",
    "5. Refine code"
   ]
  },
  {
   "cell_type": "markdown",
   "metadata": {},
   "source": [
    "### Cryptarithmetic"
   ]
  },
  {
   "cell_type": "raw",
   "metadata": {},
   "source": [
    "                                O  D  D\n",
    "                              + O  D  D\n",
    "                              ----------\n",
    "                              E V  E  N"
   ]
  },
  {
   "cell_type": "raw",
   "metadata": {},
   "source": [
    "We can go onto do something like evaluating all possibilites for different numbers for the alphabets\n",
    "\n",
    "                                'O D D + O D D == E V E N'\n",
    "                                '1 2 2 + 1 2 2 == 3 4 3 5'\n",
    "                                '1 2 2 + 1 2 2 == 3 4 3 6'\n",
    "                                ...\n",
    "                                ..."
   ]
  },
  {
   "cell_type": "markdown",
   "metadata": {},
   "source": [
    "**Concepts inventory**\n",
    "\n",
    "* Equations\n",
    "    * Original(has letters) : str\n",
    "    * Filled(has digits) : str\n",
    "* Letters : str (single character)\n",
    "* Digits : str (single character)\n",
    "* Assignment (letter => digit) : table 'D' -> '3' str.translate\n",
    "* Evaluation : eval "
   ]
  },
  {
   "cell_type": "markdown",
   "metadata": {},
   "source": [
    "**Creating translation tables**"
   ]
  },
  {
   "cell_type": "code",
   "execution_count": 94,
   "metadata": {},
   "outputs": [
    {
     "name": "stdout",
     "output_type": "stream",
     "text": [
      "1 + 2 == 3\n",
      "True\n"
     ]
    }
   ],
   "source": [
    "import string\n",
    "\n",
    "'''\n",
    "    maketrans() method returns a translation table that maps each character in the intabstring \n",
    "    into the character at the same position in the outtab string. Then this table is passed to \n",
    "    the translate() function\n",
    "'''\n",
    "f = 'A + B == C'\n",
    "\n",
    "table = str.maketrans('ABC', '123')\n",
    "\n",
    "trans = f.translate(table)\n",
    "print(trans)\n",
    "print(eval(trans))"
   ]
  },
  {
   "cell_type": "code",
   "execution_count": 99,
   "metadata": {},
   "outputs": [],
   "source": [
    "def valid(f):\n",
    "    \"Formula f is valid iff it has no numbers with leading zero and evals true.\"\n",
    "    try:\n",
    "        return not re.match(r'\\b0[0-9]', f) and eval(f)\n",
    "    except ArithmeticError:\n",
    "        return False  "
   ]
  },
  {
   "cell_type": "code",
   "execution_count": 102,
   "metadata": {},
   "outputs": [
    {
     "name": "stdout",
     "output_type": "stream",
     "text": [
      "True\n",
      "False\n",
      "False\n",
      "False\n"
     ]
    }
   ],
   "source": [
    "print(valid('1 + 2 == 3'))\n",
    "print(valid('1 + 2 == 6'))\n",
    "print(valid('01 + 3 == 4'))\n",
    "print(valid('1 / 0 == 1'))"
   ]
  },
  {
   "cell_type": "markdown",
   "metadata": {},
   "source": [
    "**Pitfall**\n",
    "\n",
    "Numbers starting with a **0** ***was*** interpreted as octal in Python"
   ]
  },
  {
   "cell_type": "code",
   "execution_count": 122,
   "metadata": {},
   "outputs": [],
   "source": [
    "# Write a function, solve(formula) that solves cryptarithmetic puzzles.\n",
    "# The input should be a formula like 'ODD + ODD == EVEN', and the \n",
    "# output should be a string with the digits filled in, or None if the\n",
    "# problem is not solvable.\n",
    "\n",
    "import string, re \n",
    "\n",
    "def solve(formula):\n",
    "    \"\"\"Given a formula like 'ODD + ODD == EVEN', fill in digits to solve it.\n",
    "    Input formula is a string; output is a digit-filled-in string or None.\"\"\"\n",
    "    # Your code here\n",
    "    fill = fill_in(formula)\n",
    "    for f in fill:\n",
    "        if valid(f):\n",
    "            return f   \n",
    "    return None\n",
    "    \n",
    "# assume: def fill_in(formula):\n",
    "#        \"Generate all possible fillings-in of letters in formula with digits.\"\n",
    "    \n",
    "def valid(f):\n",
    "    \"\"\"Formula f is valid if and only if it has no \n",
    "    numbers with leading zero, and evals true.\"\"\"\n",
    "    try: \n",
    "        return not re.search(r'\\b0[0-9]', f) and eval(f) is True\n",
    "    except ArithmeticError:\n",
    "        return False"
   ]
  },
  {
   "cell_type": "code",
   "execution_count": 143,
   "metadata": {},
   "outputs": [],
   "source": [
    "def fill_in(formula):\n",
    "    \"Generate all possible fillings-in of letters in formula with digits.\"\n",
    "    #letters = ''.join(list(set([elem for elem in formula if elem.isalpha()]))) #should be a string\n",
    "    letters = ''.join(set(re.findall('[A-Z]', formula)))\n",
    "    # find all n letter combinations of digits where n is the number of letters in our formula\n",
    "    for digits in itertools.permutations('1234567890', len(letters)):\n",
    "        table = str.maketrans(letters, ''.join(digits))\n",
    "        yield formula.translate(table)"
   ]
  },
  {
   "cell_type": "code",
   "execution_count": 124,
   "metadata": {},
   "outputs": [
    {
     "name": "stdout",
     "output_type": "stream",
     "text": [
      "1+2==3\n"
     ]
    }
   ],
   "source": [
    "print(next(fill_in('1+2==3')))"
   ]
  },
  {
   "cell_type": "raw",
   "metadata": {},
   "source": [
    "          --------- 0 Python 2\n",
    "1 / 2 ----\n",
    "          --------- 0.5 Python 3\n",
    "          \n",
    "Use from __future__ import division for getting the functionality in python2"
   ]
  },
  {
   "cell_type": "markdown",
   "metadata": {},
   "source": [
    "<hr>"
   ]
  },
  {
   "cell_type": "markdown",
   "metadata": {},
   "source": [
    "**Testing**"
   ]
  },
  {
   "cell_type": "code",
   "execution_count": 150,
   "metadata": {},
   "outputs": [
    {
     "name": "stdout",
     "output_type": "stream",
     "text": [
      "\n",
      "            TWO + TWO == FOUR\n",
      "0.6524 sec: 734 + 734 == 1468\n",
      "\n",
      "                A**2 + B**2 == C**2\n",
      "0.0090 sec:     3**2 + 4**2 == 5**2\n",
      "\n",
      "                A**2 + BE**2 == BY**2\n",
      "0.0120 sec:     9**2 + 40**2 == 41**2\n",
      "\n",
      "                X / X == X\n",
      "0.0000 sec:     1 / 1 == 1\n",
      "\n",
      "                A**N + B**N == C**N and N > 1#because we only translate capitals\n",
      "0.0798 sec:     3**2 + 4**2 == 5**2 and 2 > 1#because we only translate capitals\n",
      "\n",
      "                ATOM**0.5 == A + TO + M\n",
      "0.0160 sec:     6724**0.5 == 6 + 72 + 4\n",
      "\n",
      "                GLITTERS is not GOLD\n",
      "0.0000 sec:     38744961 is not 3285\n",
      "\n",
      "                ONE < TWO and FOUR < FIVE\n",
      "0.0000 sec:     320 < 453 and 9386 < 9710\n",
      "\n",
      "                sum(range(POP)) == BOBO\n",
      "0.0359 sec:     sum(range(101)) == 5050\n",
      "\n",
      "                ODD + ODD == EVEN\n",
      "0.1237 sec:     655 + 655 == 1310\n",
      "\n",
      "                PLUTO not in set([PLANETS])\n",
      "0.0000 sec:     56743 not in set([5682941])\n",
      "1.0303409099578857 tot.\n"
     ]
    }
   ],
   "source": [
    "def test():\n",
    "    examples = \"\"\"TWO + TWO == FOUR\n",
    "    A**2 + B**2 == C**2\n",
    "    A**2 + BE**2 == BY**2\n",
    "    X / X == X\n",
    "    A**N + B**N == C**N and N > 1#because we only translate capitals\n",
    "    ATOM**0.5 == A + TO + M\n",
    "    GLITTERS is not GOLD\n",
    "    ONE < TWO and FOUR < FIVE\n",
    "    sum(range(POP)) == BOBO\n",
    "    ODD + ODD == EVEN\n",
    "    PLUTO not in set([PLANETS])\"\"\".splitlines()\n",
    "\n",
    "    t = time.time()\n",
    "    for example in examples:\n",
    "        print('\\n', 10 * ' ', example)\n",
    "        print(\"{:6.4f} sec: {}\".format(*timedcall(solve, example)))\n",
    "\n",
    "    print(time.time()-t, 'tot.')\n",
    "    \n",
    "test()"
   ]
  },
  {
   "cell_type": "markdown",
   "metadata": {},
   "source": [
    "<hr>"
   ]
  },
  {
   "cell_type": "markdown",
   "metadata": {},
   "source": [
    "**Profiling**"
   ]
  },
  {
   "cell_type": "raw",
   "metadata": {},
   "source": [
    "You can run\n",
    ">>> python -m cProfile crypto.py\n",
    "\n",
    "to find where all time goes"
   ]
  },
  {
   "cell_type": "code",
   "execution_count": 151,
   "metadata": {},
   "outputs": [
    {
     "name": "stdout",
     "output_type": "stream",
     "text": [
      "\n",
      "            TWO + TWO == FOUR\n",
      "0.8456 sec: 734 + 734 == 1468\n",
      "\n",
      "                A**2 + B**2 == C**2\n",
      "0.0110 sec:     3**2 + 4**2 == 5**2\n",
      "\n",
      "                A**2 + BE**2 == BY**2\n",
      "0.0170 sec:     9**2 + 40**2 == 41**2\n",
      "\n",
      "                X / X == X\n",
      "0.0010 sec:     1 / 1 == 1\n",
      "\n",
      "                A**N + B**N == C**N and N > 1#because we only translate capitals\n",
      "0.0918 sec:     3**2 + 4**2 == 5**2 and 2 > 1#because we only translate capitals\n",
      "\n",
      "                ATOM**0.5 == A + TO + M\n",
      "0.0170 sec:     6724**0.5 == 6 + 72 + 4\n",
      "\n",
      "                GLITTERS is not GOLD\n",
      "0.0000 sec:     38744961 is not 3285\n",
      "\n",
      "                ONE < TWO and FOUR < FIVE\n",
      "0.0000 sec:     320 < 453 and 9386 < 9710\n",
      "\n",
      "                sum(range(POP)) == BOBO\n",
      "0.0329 sec:     sum(range(101)) == 5050\n",
      "\n",
      "                ODD + ODD == EVEN\n",
      "0.1586 sec:     655 + 655 == 1310\n",
      "\n",
      "                PLUTO not in set([PLANETS])\n",
      "0.0000 sec:     56743 not in set([5682941])\n",
      "1.318267583847046 tot.\n",
      "         602273 function calls in 1.291 seconds\n",
      "\n",
      "   Ordered by: standard name\n",
      "\n",
      "   ncalls  tottime  percall  cumtime  percall filename:lineno(function)\n",
      "    67635    0.055    0.000    0.928    0.000 <ipython-input-122-4ff606affa29>:21(valid)\n",
      "       11    0.036    0.003    1.175    0.107 <ipython-input-122-4ff606affa29>:8(solve)\n",
      "    67646    0.082    0.000    0.211    0.000 <ipython-input-143-b5cca7b46edd>:1(fill_in)\n",
      "        1    0.000    0.000    1.321    1.321 <ipython-input-150-0cb6cd06f33a>:1(test)\n",
      "       11    0.000    0.000    1.175    0.107 <ipython-input-78-34b78f813c5d>:29(timedcall)\n",
      "        1    0.000    0.000    0.000    0.000 <string>:1(<module>)\n",
      "       92    0.000    0.000    0.145    0.002 ansitowin32.py:139(write)\n",
      "       92    0.001    0.000    0.145    0.002 ansitowin32.py:156(write_and_convert)\n",
      "       92    0.001    0.000    0.143    0.002 ansitowin32.py:172(write_plain_text)\n",
      "       92    0.000    0.000    0.001    0.000 ansitowin32.py:224(convert_osc)\n",
      "       92    0.000    0.000    0.145    0.002 ansitowin32.py:39(write)\n",
      "      368    0.001    0.000    0.013    0.000 iostream.py:195(schedule)\n",
      "       92    0.000    0.000    0.000    0.000 iostream.py:300(_is_master_process)\n",
      "       92    0.000    0.000    0.002    0.000 iostream.py:313(_schedule_flush)\n",
      "       92    0.001    0.000    0.132    0.001 iostream.py:327(flush)\n",
      "       92    0.001    0.000    0.011    0.000 iostream.py:366(write)\n",
      "      368    0.000    0.000    0.000    0.000 iostream.py:93(_event_pipe)\n",
      "    67635    0.043    0.000    0.179    0.000 re.py:179(search)\n",
      "       11    0.000    0.000    0.000    0.000 re.py:214(findall)\n",
      "    67646    0.040    0.000    0.040    0.000 re.py:286(_compile)\n",
      "      368    0.009    0.000    0.009    0.000 socket.py:333(send)\n",
      "      460    0.000    0.000    0.001    0.000 threading.py:1062(_wait_for_tstate_lock)\n",
      "      460    0.001    0.000    0.002    0.000 threading.py:1104(is_alive)\n",
      "       92    0.001    0.000    0.001    0.000 threading.py:215(__init__)\n",
      "       92    0.000    0.000    0.000    0.000 threading.py:239(__enter__)\n",
      "       92    0.000    0.000    0.000    0.000 threading.py:242(__exit__)\n",
      "       92    0.000    0.000    0.000    0.000 threading.py:248(_release_save)\n",
      "       92    0.000    0.000    0.000    0.000 threading.py:251(_acquire_restore)\n",
      "       92    0.000    0.000    0.000    0.000 threading.py:254(_is_owned)\n",
      "       92    0.001    0.000    0.124    0.001 threading.py:263(wait)\n",
      "       92    0.000    0.000    0.002    0.000 threading.py:498(__init__)\n",
      "      460    0.000    0.000    0.000    0.000 threading.py:506(is_set)\n",
      "       92    0.001    0.000    0.125    0.001 threading.py:533(wait)\n",
      "       92    0.000    0.000    0.000    0.000 {built-in method _imp.lock_held}\n",
      "      184    0.001    0.000    0.001    0.000 {built-in method _thread.allocate_lock}\n",
      "    54065    0.657    0.000    0.694    0.000 {built-in method builtins.eval}\n",
      "        1    0.000    0.000    1.321    1.321 {built-in method builtins.exec}\n",
      "       92    0.000    0.000    0.000    0.000 {built-in method builtins.isinstance}\n",
      "      103    0.000    0.000    0.000    0.000 {built-in method builtins.len}\n",
      "       23    0.000    0.000    0.145    0.006 {built-in method builtins.print}\n",
      "      537    0.007    0.000    0.007    0.000 {built-in method builtins.sum}\n",
      "    67635    0.045    0.000    0.045    0.000 {built-in method maketrans}\n",
      "       92    0.000    0.000    0.000    0.000 {built-in method nt.getpid}\n",
      "       24    0.000    0.000    0.000    0.000 {built-in method time.time}\n",
      "       92    0.000    0.000    0.000    0.000 {method '__enter__' of '_thread.lock' objects}\n",
      "       92    0.000    0.000    0.000    0.000 {method '__exit__' of '_thread.lock' objects}\n",
      "      828    0.122    0.000    0.122    0.000 {method 'acquire' of '_thread.lock' objects}\n",
      "      460    0.000    0.000    0.000    0.000 {method 'append' of 'collections.deque' objects}\n",
      "        1    0.000    0.000    0.000    0.000 {method 'disable' of '_lsprof.Profiler' objects}\n",
      "       11    0.000    0.000    0.000    0.000 {method 'findall' of '_sre.SRE_Pattern' objects}\n",
      "      184    0.000    0.000    0.000    0.000 {method 'finditer' of '_sre.SRE_Pattern' objects}\n",
      "       11    0.000    0.000    0.000    0.000 {method 'format' of 'str' objects}\n",
      "    67646    0.018    0.000    0.018    0.000 {method 'join' of 'str' objects}\n",
      "       92    0.000    0.000    0.000    0.000 {method 'release' of '_thread.lock' objects}\n",
      "    67635    0.096    0.000    0.096    0.000 {method 'search' of '_sre.SRE_Pattern' objects}\n",
      "        1    0.000    0.000    0.000    0.000 {method 'splitlines' of 'str' objects}\n",
      "    67635    0.066    0.000    0.066    0.000 {method 'translate' of 'str' objects}\n",
      "\n",
      "\n"
     ]
    }
   ],
   "source": [
    "import cProfile\n",
    "\n",
    "cProfile.run('test()')"
   ]
  },
  {
   "cell_type": "markdown",
   "metadata": {},
   "source": [
    "**eval()** is deprecated and is costly too"
   ]
  },
  {
   "cell_type": "code",
   "execution_count": 156,
   "metadata": {},
   "outputs": [],
   "source": [
    "f = lambda O, D, E, V, N: O*100 + D*10 + E*1 == (10*E + 1*N)**2\n",
    "add = lambda A, B, C: A + B == C"
   ]
  },
  {
   "cell_type": "code",
   "execution_count": 153,
   "metadata": {},
   "outputs": [
    {
     "data": {
      "text/plain": [
       "<function __main__.<lambda>(O, D, E, V, N)>"
      ]
     },
     "execution_count": 153,
     "metadata": {},
     "output_type": "execute_result"
    }
   ],
   "source": [
    "f"
   ]
  },
  {
   "cell_type": "code",
   "execution_count": 154,
   "metadata": {},
   "outputs": [
    {
     "data": {
      "text/plain": [
       "False"
      ]
     },
     "execution_count": 154,
     "metadata": {},
     "output_type": "execute_result"
    }
   ],
   "source": [
    "f(1, 2, 3, 4, 5)"
   ]
  },
  {
   "cell_type": "code",
   "execution_count": 155,
   "metadata": {},
   "outputs": [
    {
     "name": "stdout",
     "output_type": "stream",
     "text": [
      "8.12 µs ± 61.2 ns per loop (mean ± std. dev. of 7 runs, 100000 loops each)\n"
     ]
    }
   ],
   "source": [
    "%timeit eval('1 + 2 == 3')"
   ]
  },
  {
   "cell_type": "code",
   "execution_count": 157,
   "metadata": {},
   "outputs": [
    {
     "name": "stdout",
     "output_type": "stream",
     "text": [
      "161 ns ± 0.426 ns per loop (mean ± std. dev. of 7 runs, 10000000 loops each)\n"
     ]
    }
   ],
   "source": [
    "%timeit add(1, 2, 3)"
   ]
  },
  {
   "cell_type": "markdown",
   "metadata": {},
   "source": [
    "<hr>"
   ]
  },
  {
   "cell_type": "code",
   "execution_count": 159,
   "metadata": {},
   "outputs": [],
   "source": [
    "# Write a function, compile_word(word), that compiles a word\n",
    "# of UPPERCASE letters as numeric digits. For example:\n",
    "# compile_word('YOU') => '(1*U + 10*O +100*Y)' \n",
    "# Non-uppercase words should remain unchaged.\n",
    "\n",
    "def compile_word(word):\n",
    "    \"\"\"Compile a word of uppercase letters as numeric digits.\n",
    "    E.g., compile_word('YOU') => '(1*U+10*O+100*Y)'\n",
    "    Non-uppercase words unchanged: compile_word('+') => '+'\"\"\"\n",
    "    # Your code here.\n",
    "    if word.isupper():\n",
    "        upper = ['{}*{}'.format(10**idx, letter) for idx, letter in enumerate(word[::-1])]\n",
    "        return '(' + '+'.join(upper) + ')'\n",
    "    else:\n",
    "        return word\n",
    "    \n",
    "def faster_solve(formula):\n",
    "    \"\"\"Given a formula like 'ODD + ODD == EVEN', fill in digits to solve it.\n",
    "    Input formula is a string; output is a digit-filled-in string or None.\n",
    "    This version precompiles the formula; only one eval per formula.\"\"\"\n",
    "    f, letters = compile_formula(formula)\n",
    "    for digits in itertools.permutations((1, 2, 3, 4, 5, 6, 7, 8, 9, 0), len(letters)):\n",
    "        try:\n",
    "            if( f(*digits) is True):\n",
    "                table = str.maketrans(letters, ''.join(map(str, digits)))\n",
    "                return formula.translate(table)\n",
    "        except ArithmeticError:\n",
    "            pass\n",
    "        \n",
    "def compile_formula(formula, verbose=False):\n",
    "    \"\"\"Compile formula into a function. Also return letters found as a str.\n",
    "    'YOU == ME**2'  returns (lambda Y, M, E, U, O: (1*U + 10*O + 100*Y) == (1*E + 10*M)**2), 'YMEUO'\"\"\"\n",
    "    letters = ''.join(set(re.findall(r'[A-Z]', formula)))\n",
    "    parms = ', '.join(letters)\n",
    "    tokens = map(compile_word, re.split('([A-Z]+)', formula))\n",
    "    body = ''.join(tokens)\n",
    "    \n",
    "    f = 'lambda {}: {}'.format(parms, body)\n",
    "    if verbose: \n",
    "        print(f)\n",
    "    \n",
    "    return eval(f), letters # eval(f) returns a lambda function\n",
    "        \n",
    "        "
   ]
  },
  {
   "cell_type": "markdown",
   "metadata": {},
   "source": [
    "Here, instead of using **eval** to check for valid digits for every permutation of the formula, we use eval only once to return a lambda function which is then used to check if a digit combination is valid for a formula"
   ]
  },
  {
   "cell_type": "code",
   "execution_count": 163,
   "metadata": {},
   "outputs": [
    {
     "name": "stdout",
     "output_type": "stream",
     "text": [
      "0.8202080726623535 tot. solve\n",
      "0.04388546943664551 tot. faster_solve\n",
      "Speedup is 18.0x\n"
     ]
    }
   ],
   "source": [
    "def test():\n",
    "    examples = \"\"\"TWO + TWO == FOUR\n",
    "    A**2 + B**2 == C**2\n",
    "    A**2 + BE**2 == BY**2\n",
    "    X / X == X\n",
    "    A**N + B**N == C**N and N > 1#because we only translate capitals\n",
    "    ATOM**0.5 == A + TO + M\n",
    "    GLITTERS is not GOLD\n",
    "    ONE < TWO and FOUR < FIVE\n",
    "    sum(range(POP)) == BOBO\n",
    "    ODD + ODD == EVEN\n",
    "    PLUTO not in set([PLANETS])\"\"\".splitlines()\n",
    "\n",
    "    t = time.time()\n",
    "    for example in examples:\n",
    "        solve(example)\n",
    "        \n",
    "    solve_time = time.time()-t\n",
    "    print(solve_time, 'tot. solve')\n",
    "    \n",
    "    t = time.time()\n",
    "    for example in examples:\n",
    "        faster_solve(example)\n",
    "\n",
    "    faster_solve_time = time.time()-t\n",
    "    print(faster_solve_time, 'tot. faster_solve')\n",
    "    \n",
    "    print('Speedup is {}x'.format(solve_time//faster_solve_time))\n",
    "    \n",
    "test()"
   ]
  },
  {
   "cell_type": "markdown",
   "metadata": {},
   "source": [
    "<hr>"
   ]
  },
  {
   "cell_type": "markdown",
   "metadata": {},
   "source": [
    "**Checking for zeros at start**\n",
    "\n",
    "We had in our first implementation checked if the starting digits are substituted with 0, but not in the latest case"
   ]
  },
  {
   "cell_type": "code",
   "execution_count": 170,
   "metadata": {},
   "outputs": [
    {
     "name": "stdout",
     "output_type": "stream",
     "text": [
      "324 == 18**2\n"
     ]
    },
    {
     "data": {
      "text/plain": [
       "'tests pass'"
      ]
     },
     "execution_count": 170,
     "metadata": {},
     "output_type": "execute_result"
    }
   ],
   "source": [
    "def compile_formula(formula, verbose=False):\n",
    "    \"\"\"Compile formula into a function. Also return letters found as a str.\n",
    "    'YOU == ME**2'  returns (lambda Y, M, E, U, O: (1*U + 10*O + 100*Y) == (1*E + 10*M)**2), 'YMEUO'\"\"\"\n",
    "    letters = ''.join(set(re.findall(r'[A-Z]', formula)))\n",
    "    firstLetters = set(re.findall(r'\\b([A-Z])[A-Z]', formula)) # we have used brackets to group only the first character\n",
    "    parms = ', '.join(letters)\n",
    "    tokens = map(compile_word, re.split('([A-Z]+)', formula))\n",
    "    body = ''.join(tokens)\n",
    "                                  \n",
    "    if firstLetters: # not empty\n",
    "        tests = ' and '.join(L + '!= 0' for L in firstLetters)\n",
    "        body = '{} and ({})'.format(tests, body)\n",
    "   \n",
    "    \n",
    "    f = 'lambda {}: {}'.format(parms, body)\n",
    "    if verbose: \n",
    "        print(f)\n",
    "    \n",
    "    return eval(f), letters # eval(f) returns a lambda function\n",
    "                                  \n",
    "def test():\n",
    "    assert faster_solve('A + B == BA') == None # should NOT return '1 + 0 == 01'\n",
    "    assert faster_solve('YOU == ME**2') == ('324 == 18**2' or '289 == 17**2' or '576 == 24**2' or '841 == 29**2')\n",
    "    assert faster_solve('X / X == X') == '1 / 1 == 1'\n",
    "    return 'tests pass'\n",
    "\n",
    "print(faster_solve('YOU == ME**2'))\n",
    "test()"
   ]
  },
  {
   "cell_type": "code",
   "execution_count": 173,
   "metadata": {},
   "outputs": [
    {
     "name": "stdout",
     "output_type": "stream",
     "text": [
      "324 == 18**2\n",
      "\n",
      "841 == 29**2\n",
      "\n",
      "576 == 24**2\n",
      "\n",
      "289 == 17**2\n",
      "\n"
     ]
    }
   ],
   "source": [
    "def faster_solve(formula):\n",
    "    \"\"\"Given a formula like 'ODD + ODD == EVEN', fill in digits to solve it.\n",
    "    Input formula is a string; output is a digit-filled-in string or None.\n",
    "    This version precompiles the formula; only one eval per formula.\"\"\"\n",
    "    f, letters = compile_formula(formula)\n",
    "    for digits in itertools.permutations((1, 2, 3, 4, 5, 6, 7, 8, 9, 0), len(letters)):\n",
    "        try:\n",
    "            if( f(*digits) is True):\n",
    "                table = str.maketrans(letters, ''.join(map(str, digits)))\n",
    "                print(formula.translate(table))\n",
    "                print()\n",
    "\n",
    "        except ArithmeticError:\n",
    "            pass\n",
    "        \n",
    "faster_solve('YOU == ME**2')\n"
   ]
  },
  {
   "cell_type": "markdown",
   "metadata": {},
   "source": []
  }
 ],
 "metadata": {
  "kernelspec": {
   "display_name": "Python 3",
   "language": "python",
   "name": "python3"
  },
  "language_info": {
   "codemirror_mode": {
    "name": "ipython",
    "version": 3
   },
   "file_extension": ".py",
   "mimetype": "text/x-python",
   "name": "python",
   "nbconvert_exporter": "python",
   "pygments_lexer": "ipython3",
   "version": "3.6.5"
  }
 },
 "nbformat": 4,
 "nbformat_minor": 2
}
